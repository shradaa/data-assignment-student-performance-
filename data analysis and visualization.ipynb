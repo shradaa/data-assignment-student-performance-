{
 "cells": [
  {
   "cell_type": "code",
   "execution_count": 1,
   "metadata": {
    "_uuid": "966d5c4cee74f664c555dbcb9fcdd9f67d31ef98"
   },
   "outputs": [],
   "source": [
    "import pandas as pd\n",
    "import numpy as np"
   ]
  },
  {
   "cell_type": "code",
   "execution_count": 2,
   "metadata": {
    "_uuid": "d729303efc311e92e112288a929ef45368e03f11"
   },
   "outputs": [],
   "source": [
    "df=pd.read_csv('cleaned_data.csv')"
   ]
  },
  {
   "cell_type": "code",
   "execution_count": 3,
   "metadata": {},
   "outputs": [
    {
     "data": {
      "text/html": [
       "<div>\n",
       "<style scoped>\n",
       "    .dataframe tbody tr th:only-of-type {\n",
       "        vertical-align: middle;\n",
       "    }\n",
       "\n",
       "    .dataframe tbody tr th {\n",
       "        vertical-align: top;\n",
       "    }\n",
       "\n",
       "    .dataframe thead th {\n",
       "        text-align: right;\n",
       "    }\n",
       "</style>\n",
       "<table border=\"1\" class=\"dataframe\">\n",
       "  <thead>\n",
       "    <tr style=\"text-align: right;\">\n",
       "      <th></th>\n",
       "      <th>Unnamed: 0</th>\n",
       "      <th>Unnamed: 0.1</th>\n",
       "      <th>gender</th>\n",
       "      <th>race/ethnicity</th>\n",
       "      <th>parental level of education</th>\n",
       "      <th>lunch</th>\n",
       "      <th>test preparation course</th>\n",
       "      <th>math score</th>\n",
       "      <th>reading score</th>\n",
       "      <th>writing score</th>\n",
       "      <th>...</th>\n",
       "      <th>test_preparation_course_map</th>\n",
       "      <th>Result</th>\n",
       "      <th>math_performance</th>\n",
       "      <th>reading_performance</th>\n",
       "      <th>writing_performance</th>\n",
       "      <th>total</th>\n",
       "      <th>percentage</th>\n",
       "      <th>grades</th>\n",
       "      <th>Result_map</th>\n",
       "      <th>grades_map</th>\n",
       "    </tr>\n",
       "  </thead>\n",
       "  <tbody>\n",
       "    <tr>\n",
       "      <th>0</th>\n",
       "      <td>0</td>\n",
       "      <td>0</td>\n",
       "      <td>female</td>\n",
       "      <td>group B</td>\n",
       "      <td>bachelor's degree</td>\n",
       "      <td>standard</td>\n",
       "      <td>none</td>\n",
       "      <td>72</td>\n",
       "      <td>72</td>\n",
       "      <td>74</td>\n",
       "      <td>...</td>\n",
       "      <td>0</td>\n",
       "      <td>Pass</td>\n",
       "      <td>1</td>\n",
       "      <td>1</td>\n",
       "      <td>1</td>\n",
       "      <td>218</td>\n",
       "      <td>72.666667</td>\n",
       "      <td>first</td>\n",
       "      <td>1</td>\n",
       "      <td>3</td>\n",
       "    </tr>\n",
       "    <tr>\n",
       "      <th>1</th>\n",
       "      <td>1</td>\n",
       "      <td>1</td>\n",
       "      <td>female</td>\n",
       "      <td>group C</td>\n",
       "      <td>some college</td>\n",
       "      <td>standard</td>\n",
       "      <td>completed</td>\n",
       "      <td>69</td>\n",
       "      <td>90</td>\n",
       "      <td>88</td>\n",
       "      <td>...</td>\n",
       "      <td>1</td>\n",
       "      <td>Pass</td>\n",
       "      <td>1</td>\n",
       "      <td>1</td>\n",
       "      <td>1</td>\n",
       "      <td>247</td>\n",
       "      <td>82.333333</td>\n",
       "      <td>Distinction</td>\n",
       "      <td>1</td>\n",
       "      <td>4</td>\n",
       "    </tr>\n",
       "    <tr>\n",
       "      <th>2</th>\n",
       "      <td>2</td>\n",
       "      <td>2</td>\n",
       "      <td>female</td>\n",
       "      <td>group B</td>\n",
       "      <td>master's degree</td>\n",
       "      <td>standard</td>\n",
       "      <td>none</td>\n",
       "      <td>90</td>\n",
       "      <td>95</td>\n",
       "      <td>93</td>\n",
       "      <td>...</td>\n",
       "      <td>0</td>\n",
       "      <td>Pass</td>\n",
       "      <td>1</td>\n",
       "      <td>1</td>\n",
       "      <td>1</td>\n",
       "      <td>278</td>\n",
       "      <td>92.666667</td>\n",
       "      <td>Distinction</td>\n",
       "      <td>1</td>\n",
       "      <td>4</td>\n",
       "    </tr>\n",
       "    <tr>\n",
       "      <th>3</th>\n",
       "      <td>3</td>\n",
       "      <td>3</td>\n",
       "      <td>male</td>\n",
       "      <td>group A</td>\n",
       "      <td>associate's degree</td>\n",
       "      <td>free/reduced</td>\n",
       "      <td>none</td>\n",
       "      <td>47</td>\n",
       "      <td>57</td>\n",
       "      <td>44</td>\n",
       "      <td>...</td>\n",
       "      <td>0</td>\n",
       "      <td>Pass</td>\n",
       "      <td>1</td>\n",
       "      <td>1</td>\n",
       "      <td>1</td>\n",
       "      <td>148</td>\n",
       "      <td>49.333333</td>\n",
       "      <td>third</td>\n",
       "      <td>1</td>\n",
       "      <td>1</td>\n",
       "    </tr>\n",
       "    <tr>\n",
       "      <th>4</th>\n",
       "      <td>4</td>\n",
       "      <td>4</td>\n",
       "      <td>male</td>\n",
       "      <td>group C</td>\n",
       "      <td>some college</td>\n",
       "      <td>standard</td>\n",
       "      <td>none</td>\n",
       "      <td>76</td>\n",
       "      <td>78</td>\n",
       "      <td>75</td>\n",
       "      <td>...</td>\n",
       "      <td>0</td>\n",
       "      <td>Pass</td>\n",
       "      <td>1</td>\n",
       "      <td>1</td>\n",
       "      <td>1</td>\n",
       "      <td>229</td>\n",
       "      <td>76.333333</td>\n",
       "      <td>first</td>\n",
       "      <td>1</td>\n",
       "      <td>3</td>\n",
       "    </tr>\n",
       "  </tbody>\n",
       "</table>\n",
       "<p>5 rows × 24 columns</p>\n",
       "</div>"
      ],
      "text/plain": [
       "   Unnamed: 0  Unnamed: 0.1  gender race/ethnicity  \\\n",
       "0           0             0  female        group B   \n",
       "1           1             1  female        group C   \n",
       "2           2             2  female        group B   \n",
       "3           3             3    male        group A   \n",
       "4           4             4    male        group C   \n",
       "\n",
       "  parental level of education         lunch test preparation course  \\\n",
       "0           bachelor's degree      standard                    none   \n",
       "1                some college      standard               completed   \n",
       "2             master's degree      standard                    none   \n",
       "3          associate's degree  free/reduced                    none   \n",
       "4                some college      standard                    none   \n",
       "\n",
       "   math score  reading score  writing score     ...      \\\n",
       "0          72             72             74     ...       \n",
       "1          69             90             88     ...       \n",
       "2          90             95             93     ...       \n",
       "3          47             57             44     ...       \n",
       "4          76             78             75     ...       \n",
       "\n",
       "   test_preparation_course_map  Result  math_performance  reading_performance  \\\n",
       "0                            0    Pass                 1                    1   \n",
       "1                            1    Pass                 1                    1   \n",
       "2                            0    Pass                 1                    1   \n",
       "3                            0    Pass                 1                    1   \n",
       "4                            0    Pass                 1                    1   \n",
       "\n",
       "   writing_performance total  percentage       grades  Result_map  grades_map  \n",
       "0                    1   218   72.666667        first           1           3  \n",
       "1                    1   247   82.333333  Distinction           1           4  \n",
       "2                    1   278   92.666667  Distinction           1           4  \n",
       "3                    1   148   49.333333        third           1           1  \n",
       "4                    1   229   76.333333        first           1           3  \n",
       "\n",
       "[5 rows x 24 columns]"
      ]
     },
     "execution_count": 3,
     "metadata": {},
     "output_type": "execute_result"
    }
   ],
   "source": [
    "df.head()"
   ]
  },
  {
   "cell_type": "markdown",
   "metadata": {
    "_uuid": "5c773c84a2fe685f6bcdd1bc68e23506ddae6ca1"
   },
   "source": [
    "**Data Description**"
   ]
  },
  {
   "cell_type": "code",
   "execution_count": 4,
   "metadata": {
    "_uuid": "28ff9a6fb3ad12e45ef669b23ff6f655c426f17a"
   },
   "outputs": [
    {
     "data": {
      "text/html": [
       "<div>\n",
       "<style scoped>\n",
       "    .dataframe tbody tr th:only-of-type {\n",
       "        vertical-align: middle;\n",
       "    }\n",
       "\n",
       "    .dataframe tbody tr th {\n",
       "        vertical-align: top;\n",
       "    }\n",
       "\n",
       "    .dataframe thead th {\n",
       "        text-align: right;\n",
       "    }\n",
       "</style>\n",
       "<table border=\"1\" class=\"dataframe\">\n",
       "  <thead>\n",
       "    <tr style=\"text-align: right;\">\n",
       "      <th></th>\n",
       "      <th>Unnamed: 0</th>\n",
       "      <th>Unnamed: 0.1</th>\n",
       "      <th>math score</th>\n",
       "      <th>reading score</th>\n",
       "      <th>writing score</th>\n",
       "      <th>gender_map</th>\n",
       "      <th>race/ethinicity_map</th>\n",
       "      <th>parental_level_of_education_map</th>\n",
       "      <th>lunch_map</th>\n",
       "      <th>test_preparation_course_map</th>\n",
       "      <th>math_performance</th>\n",
       "      <th>reading_performance</th>\n",
       "      <th>writing_performance</th>\n",
       "      <th>total</th>\n",
       "      <th>percentage</th>\n",
       "      <th>Result_map</th>\n",
       "      <th>grades_map</th>\n",
       "    </tr>\n",
       "  </thead>\n",
       "  <tbody>\n",
       "    <tr>\n",
       "      <th>count</th>\n",
       "      <td>1000.000000</td>\n",
       "      <td>1000.000000</td>\n",
       "      <td>1000.00000</td>\n",
       "      <td>1000.000000</td>\n",
       "      <td>1000.000000</td>\n",
       "      <td>1000.000000</td>\n",
       "      <td>1000.000000</td>\n",
       "      <td>1000.000000</td>\n",
       "      <td>1000.000000</td>\n",
       "      <td>1000.000000</td>\n",
       "      <td>1000.000000</td>\n",
       "      <td>1000.000000</td>\n",
       "      <td>1000.000000</td>\n",
       "      <td>1000.000000</td>\n",
       "      <td>1000.000000</td>\n",
       "      <td>1000.000000</td>\n",
       "      <td>1000.00000</td>\n",
       "    </tr>\n",
       "    <tr>\n",
       "      <th>mean</th>\n",
       "      <td>499.500000</td>\n",
       "      <td>499.500000</td>\n",
       "      <td>66.08900</td>\n",
       "      <td>69.169000</td>\n",
       "      <td>68.054000</td>\n",
       "      <td>0.518000</td>\n",
       "      <td>2.843000</td>\n",
       "      <td>3.937000</td>\n",
       "      <td>1.355000</td>\n",
       "      <td>0.358000</td>\n",
       "      <td>0.960000</td>\n",
       "      <td>0.974000</td>\n",
       "      <td>0.968000</td>\n",
       "      <td>203.312000</td>\n",
       "      <td>67.770667</td>\n",
       "      <td>0.949000</td>\n",
       "      <td>2.73100</td>\n",
       "    </tr>\n",
       "    <tr>\n",
       "      <th>std</th>\n",
       "      <td>288.819436</td>\n",
       "      <td>288.819436</td>\n",
       "      <td>15.16308</td>\n",
       "      <td>14.600192</td>\n",
       "      <td>15.195657</td>\n",
       "      <td>0.499926</td>\n",
       "      <td>1.370485</td>\n",
       "      <td>1.612958</td>\n",
       "      <td>0.478753</td>\n",
       "      <td>0.479652</td>\n",
       "      <td>0.196057</td>\n",
       "      <td>0.159215</td>\n",
       "      <td>0.176088</td>\n",
       "      <td>42.771978</td>\n",
       "      <td>14.257326</td>\n",
       "      <td>0.220108</td>\n",
       "      <td>1.03136</td>\n",
       "    </tr>\n",
       "    <tr>\n",
       "      <th>min</th>\n",
       "      <td>0.000000</td>\n",
       "      <td>0.000000</td>\n",
       "      <td>0.00000</td>\n",
       "      <td>17.000000</td>\n",
       "      <td>10.000000</td>\n",
       "      <td>0.000000</td>\n",
       "      <td>1.000000</td>\n",
       "      <td>1.000000</td>\n",
       "      <td>1.000000</td>\n",
       "      <td>0.000000</td>\n",
       "      <td>0.000000</td>\n",
       "      <td>0.000000</td>\n",
       "      <td>0.000000</td>\n",
       "      <td>27.000000</td>\n",
       "      <td>9.000000</td>\n",
       "      <td>0.000000</td>\n",
       "      <td>0.00000</td>\n",
       "    </tr>\n",
       "    <tr>\n",
       "      <th>25%</th>\n",
       "      <td>249.750000</td>\n",
       "      <td>249.750000</td>\n",
       "      <td>57.00000</td>\n",
       "      <td>59.000000</td>\n",
       "      <td>57.750000</td>\n",
       "      <td>0.000000</td>\n",
       "      <td>2.000000</td>\n",
       "      <td>3.000000</td>\n",
       "      <td>1.000000</td>\n",
       "      <td>0.000000</td>\n",
       "      <td>1.000000</td>\n",
       "      <td>1.000000</td>\n",
       "      <td>1.000000</td>\n",
       "      <td>175.000000</td>\n",
       "      <td>58.333333</td>\n",
       "      <td>1.000000</td>\n",
       "      <td>2.00000</td>\n",
       "    </tr>\n",
       "    <tr>\n",
       "      <th>50%</th>\n",
       "      <td>499.500000</td>\n",
       "      <td>499.500000</td>\n",
       "      <td>66.00000</td>\n",
       "      <td>70.000000</td>\n",
       "      <td>69.000000</td>\n",
       "      <td>1.000000</td>\n",
       "      <td>2.000000</td>\n",
       "      <td>4.000000</td>\n",
       "      <td>1.000000</td>\n",
       "      <td>0.000000</td>\n",
       "      <td>1.000000</td>\n",
       "      <td>1.000000</td>\n",
       "      <td>1.000000</td>\n",
       "      <td>205.000000</td>\n",
       "      <td>68.333333</td>\n",
       "      <td>1.000000</td>\n",
       "      <td>3.00000</td>\n",
       "    </tr>\n",
       "    <tr>\n",
       "      <th>75%</th>\n",
       "      <td>749.250000</td>\n",
       "      <td>749.250000</td>\n",
       "      <td>77.00000</td>\n",
       "      <td>79.000000</td>\n",
       "      <td>79.000000</td>\n",
       "      <td>1.000000</td>\n",
       "      <td>4.000000</td>\n",
       "      <td>5.000000</td>\n",
       "      <td>2.000000</td>\n",
       "      <td>1.000000</td>\n",
       "      <td>1.000000</td>\n",
       "      <td>1.000000</td>\n",
       "      <td>1.000000</td>\n",
       "      <td>233.000000</td>\n",
       "      <td>77.666667</td>\n",
       "      <td>1.000000</td>\n",
       "      <td>3.00000</td>\n",
       "    </tr>\n",
       "    <tr>\n",
       "      <th>max</th>\n",
       "      <td>999.000000</td>\n",
       "      <td>999.000000</td>\n",
       "      <td>100.00000</td>\n",
       "      <td>100.000000</td>\n",
       "      <td>100.000000</td>\n",
       "      <td>1.000000</td>\n",
       "      <td>5.000000</td>\n",
       "      <td>6.000000</td>\n",
       "      <td>2.000000</td>\n",
       "      <td>1.000000</td>\n",
       "      <td>1.000000</td>\n",
       "      <td>1.000000</td>\n",
       "      <td>1.000000</td>\n",
       "      <td>300.000000</td>\n",
       "      <td>100.000000</td>\n",
       "      <td>1.000000</td>\n",
       "      <td>4.00000</td>\n",
       "    </tr>\n",
       "  </tbody>\n",
       "</table>\n",
       "</div>"
      ],
      "text/plain": [
       "        Unnamed: 0  Unnamed: 0.1  math score  reading score  writing score  \\\n",
       "count  1000.000000   1000.000000  1000.00000    1000.000000    1000.000000   \n",
       "mean    499.500000    499.500000    66.08900      69.169000      68.054000   \n",
       "std     288.819436    288.819436    15.16308      14.600192      15.195657   \n",
       "min       0.000000      0.000000     0.00000      17.000000      10.000000   \n",
       "25%     249.750000    249.750000    57.00000      59.000000      57.750000   \n",
       "50%     499.500000    499.500000    66.00000      70.000000      69.000000   \n",
       "75%     749.250000    749.250000    77.00000      79.000000      79.000000   \n",
       "max     999.000000    999.000000   100.00000     100.000000     100.000000   \n",
       "\n",
       "        gender_map  race/ethinicity_map  parental_level_of_education_map  \\\n",
       "count  1000.000000          1000.000000                      1000.000000   \n",
       "mean      0.518000             2.843000                         3.937000   \n",
       "std       0.499926             1.370485                         1.612958   \n",
       "min       0.000000             1.000000                         1.000000   \n",
       "25%       0.000000             2.000000                         3.000000   \n",
       "50%       1.000000             2.000000                         4.000000   \n",
       "75%       1.000000             4.000000                         5.000000   \n",
       "max       1.000000             5.000000                         6.000000   \n",
       "\n",
       "         lunch_map  test_preparation_course_map  math_performance  \\\n",
       "count  1000.000000                  1000.000000       1000.000000   \n",
       "mean      1.355000                     0.358000          0.960000   \n",
       "std       0.478753                     0.479652          0.196057   \n",
       "min       1.000000                     0.000000          0.000000   \n",
       "25%       1.000000                     0.000000          1.000000   \n",
       "50%       1.000000                     0.000000          1.000000   \n",
       "75%       2.000000                     1.000000          1.000000   \n",
       "max       2.000000                     1.000000          1.000000   \n",
       "\n",
       "       reading_performance  writing_performance        total   percentage  \\\n",
       "count          1000.000000          1000.000000  1000.000000  1000.000000   \n",
       "mean              0.974000             0.968000   203.312000    67.770667   \n",
       "std               0.159215             0.176088    42.771978    14.257326   \n",
       "min               0.000000             0.000000    27.000000     9.000000   \n",
       "25%               1.000000             1.000000   175.000000    58.333333   \n",
       "50%               1.000000             1.000000   205.000000    68.333333   \n",
       "75%               1.000000             1.000000   233.000000    77.666667   \n",
       "max               1.000000             1.000000   300.000000   100.000000   \n",
       "\n",
       "        Result_map  grades_map  \n",
       "count  1000.000000  1000.00000  \n",
       "mean      0.949000     2.73100  \n",
       "std       0.220108     1.03136  \n",
       "min       0.000000     0.00000  \n",
       "25%       1.000000     2.00000  \n",
       "50%       1.000000     3.00000  \n",
       "75%       1.000000     3.00000  \n",
       "max       1.000000     4.00000  "
      ]
     },
     "execution_count": 4,
     "metadata": {},
     "output_type": "execute_result"
    }
   ],
   "source": [
    "df.describe()"
   ]
  },
  {
   "cell_type": "markdown",
   "metadata": {
    "_uuid": "a39fc8ab9b2e164431568ffec1e0d09ae063e3d4"
   },
   "source": [
    "**Data Visualization**"
   ]
  },
  {
   "cell_type": "code",
   "execution_count": 5,
   "metadata": {
    "_uuid": "c4c7ca21202948a760e0fadffb44e1e3e03ae105"
   },
   "outputs": [
    {
     "data": {
      "text/plain": [
       "female    518\n",
       "male      482\n",
       "Name: gender, dtype: int64"
      ]
     },
     "execution_count": 5,
     "metadata": {},
     "output_type": "execute_result"
    }
   ],
   "source": [
    "##Identifying total number of male and female students.\n",
    "df['gender'].value_counts()"
   ]
  },
  {
   "cell_type": "code",
   "execution_count": 6,
   "metadata": {
    "_uuid": "eba6bc4f0648ca06ad97476b650226d319670d4b"
   },
   "outputs": [
    {
     "name": "stdout",
     "output_type": "stream",
     "text": [
      "Total Passed students are: 949\n"
     ]
    }
   ],
   "source": [
    "##Identifying students who passed in all subjects\n",
    "passed_students=df[df['Result']==\"Pass\"]\n",
    "print(\"Total Passed students are:\",len(passed_students))\n"
   ]
  },
  {
   "cell_type": "markdown",
   "metadata": {
    "_uuid": "c9c43acea6b8201af06036c6db2b538032c9c701"
   },
   "source": [
    "# **Hypothesis 1: More female students have passed in comparison to male Students **"
   ]
  },
  {
   "cell_type": "code",
   "execution_count": 7,
   "metadata": {
    "_uuid": "c210d7c06783009e7b8b7a83156cf100649907e1"
   },
   "outputs": [
    {
     "data": {
      "text/plain": [
       "female    487\n",
       "male      462\n",
       "Name: gender, dtype: int64"
      ]
     },
     "execution_count": 7,
     "metadata": {},
     "output_type": "execute_result"
    }
   ],
   "source": [
    "##Finding the total number of male and female students passed in all subjects\n",
    "gender_passed = passed_students['gender']\n",
    "gender_passed_students = gender_passed.value_counts()\n",
    "gender_passed_students"
   ]
  },
  {
   "cell_type": "code",
   "execution_count": 8,
   "metadata": {
    "_uuid": "c147c1b91f13765a8be4d72e0d277905b7016251"
   },
   "outputs": [
    {
     "data": {
      "text/plain": [
       "<matplotlib.axes._subplots.AxesSubplot at 0xcdfa5b0>"
      ]
     },
     "execution_count": 8,
     "metadata": {},
     "output_type": "execute_result"
    }
   ],
   "source": [
    "##Ploting the total number of male and female students passed in all subjects\n",
    "gender_passed_students.plot.bar()"
   ]
  },
  {
   "cell_type": "markdown",
   "metadata": {
    "_uuid": "fd0c94ac1480fc5d70cac4fd7b5e28bba446fe3f"
   },
   "source": [
    "From the above bar diagram, we can see that more female are passing  than male in all subjects."
   ]
  },
  {
   "cell_type": "markdown",
   "metadata": {
    "_uuid": "b787deb56164c11ed5c470e599f98dfee1a95c5e"
   },
   "source": [
    "# **Hypothesis 2: Passed students have taken standard lunch and belongs to race group A.**"
   ]
  },
  {
   "cell_type": "code",
   "execution_count": 9,
   "metadata": {
    "_uuid": "3db399a4c0c9dd94fd81d54acdada7c27af8a8d2"
   },
   "outputs": [
    {
     "data": {
      "text/plain": [
       "group C    301\n",
       "group D    252\n",
       "group B    177\n",
       "group E    136\n",
       "group A     83\n",
       "Name: race/ethnicity, dtype: int64"
      ]
     },
     "execution_count": 9,
     "metadata": {},
     "output_type": "execute_result"
    }
   ],
   "source": [
    "##Identifying race/ethnicity of passed students \n",
    "students_race=passed_students['race/ethnicity']\n",
    "students_race_count=students_race.value_counts()\n",
    "students_race_count\n"
   ]
  },
  {
   "cell_type": "code",
   "execution_count": 10,
   "metadata": {
    "_uuid": "392e0c7d35697342aa0fa8441962426a331b7c8f"
   },
   "outputs": [
    {
     "data": {
      "text/plain": [
       "<matplotlib.axes._subplots.AxesSubplot at 0xde976b0>"
      ]
     },
     "execution_count": 10,
     "metadata": {},
     "output_type": "execute_result"
    },
    {
     "data": {
      "image/png": "[encoded data removed]",
      "text/plain": [
       "<Figure size 432x288 with 1 Axes>"
      ]
     },
     "metadata": {
      "needs_background": "light"
     },
     "output_type": "display_data"
    }
   ],
   "source": [
    "students_race_count.plot.bar()"
   ]
  },
  {
   "cell_type": "markdown",
   "metadata": {
    "_uuid": "835f777722641df95683dbe4f25191a3699c91d1"
   },
   "source": [
    "From the above bar diagram, students of race group A has least passed students and group C has most passed students"
   ]
  },
  {
   "cell_type": "code",
   "execution_count": 11,
   "metadata": {
    "_uuid": "12af11d88a4223a9d5e0715fc8f6fbec8949ce36"
   },
   "outputs": [
    {
     "data": {
      "text/plain": [
       "standard        633\n",
       "free/reduced    316\n",
       "Name: lunch, dtype: int64"
      ]
     },
     "execution_count": 11,
     "metadata": {},
     "output_type": "execute_result"
    }
   ],
   "source": [
    "##identifying the lunch of passed students\n",
    "student_lunch=passed_students['lunch']\n",
    "student_lunch_count=student_lunch.value_counts()\n",
    "student_lunch_count"
   ]
  },
  {
   "cell_type": "code",
   "execution_count": 12,
   "metadata": {
    "_uuid": "a09360b41f56f88ff14b7d393a6eca503a102a07"
   },
   "outputs": [
    {
     "data": {
      "text/plain": [
       "<matplotlib.axes._subplots.AxesSubplot at 0xefe8df0>"
      ]
     },
     "execution_count": 12,
     "metadata": {},
     "output_type": "execute_result"
    },
    {
     "data": {
      "image/png": "[encoded data removed]",
      "text/plain": [
       "<Figure size 432x288 with 1 Axes>"
      ]
     },
     "metadata": {
      "needs_background": "light"
     },
     "output_type": "display_data"
    }
   ],
   "source": [
    "student_lunch_count.plot.bar()"
   ]
  },
  {
   "cell_type": "markdown",
   "metadata": {
    "_uuid": "cae7230a290532a2a90929758d286ce367142632"
   },
   "source": [
    "From the above bar diagram,more students having standard lunch are passed in all subjects in comparison to the students who have free/reduced lunch"
   ]
  },
  {
   "cell_type": "markdown",
   "metadata": {
    "_uuid": "522f4674c21292e03c0da72bb675abb518dac3d5"
   },
   "source": [
    "# **Hypothesis 3: Most of the students who have taken test preparation course are likely to pass.**"
   ]
  },
  {
   "cell_type": "code",
   "execution_count": 13,
   "metadata": {
    "_uuid": "3f3c56ccea6b012f2ce139e80c8ef3e29b5e3895"
   },
   "outputs": [
    {
     "data": {
      "text/plain": [
       "none         598\n",
       "completed    351\n",
       "Name: test preparation course, dtype: int64"
      ]
     },
     "execution_count": 13,
     "metadata": {},
     "output_type": "execute_result"
    }
   ],
   "source": [
    "##Identifying test preparation course of passed students\n",
    "student_test_preparation_course=passed_students['test preparation course']\n",
    "student_test_preparation_course_count=student_test_preparation_course.value_counts()\n",
    "student_test_preparation_course_count"
   ]
  },
  {
   "cell_type": "code",
   "execution_count": 14,
   "metadata": {
    "_uuid": "1c2882633c3b0a44f70ec9afbc67ba688fefbaa9"
   },
   "outputs": [
    {
     "data": {
      "text/plain": [
       "<matplotlib.axes._subplots.AxesSubplot at 0xf03aeb0>"
      ]
     },
     "execution_count": 14,
     "metadata": {},
     "output_type": "execute_result"
    },
    {
     "data": {
      "image/png": "[encoded data removed]",
      "text/plain": [
       "<Figure size 432x288 with 1 Axes>"
      ]
     },
     "metadata": {
      "needs_background": "light"
     },
     "output_type": "display_data"
    }
   ],
   "source": [
    "student_test_preparation_course_count.plot.bar()"
   ]
  },
  {
   "cell_type": "markdown",
   "metadata": {
    "_uuid": "946a990b7b9644bbf9a09ca62468c3f22de5fcd0"
   },
   "source": [
    "From the above bar daigram, those who haven't taken any test preparation course are passed in all subjects than those who have completed the test preparation course."
   ]
  },
  {
   "cell_type": "code",
   "execution_count": 15,
   "metadata": {
    "_uuid": "7555631b9d4e9937977eacf94608eafc570e5ea9"
   },
   "outputs": [
    {
     "data": {
      "text/plain": [
       "some college          226\n",
       "associate's degree    222\n",
       "high school           196\n",
       "some high school      179\n",
       "bachelor's degree     118\n",
       "master's degree        59\n",
       "Name: parental level of education, dtype: int64"
      ]
     },
     "execution_count": 15,
     "metadata": {},
     "output_type": "execute_result"
    }
   ],
   "source": [
    "##Identifying whether the parent's education affects their children education or not.\n",
    "all_students_parent_level = df['parental level of education']\n",
    "all_students_parent_level_count = all_students_parent_level.value_counts()\n",
    "all_students_parent_level_count"
   ]
  },
  {
   "cell_type": "code",
   "execution_count": 16,
   "metadata": {
    "_uuid": "846ef2cf54cf8f9e02ed1eeedf851433a8c7fe45"
   },
   "outputs": [
    {
     "data": {
      "text/plain": [
       "<matplotlib.axes._subplots.AxesSubplot at 0xf075830>"
      ]
     },
     "execution_count": 16,
     "metadata": {},
     "output_type": "execute_result"
    },
    {
     "data": {
      "image/png": "[encoded data removed]",
      "text/plain": [
       "<Figure size 432x288 with 1 Axes>"
      ]
     },
     "metadata": {
      "needs_background": "light"
     },
     "output_type": "display_data"
    }
   ],
   "source": [
    "all_students_parent_level_count.plot.bar()"
   ]
  },
  {
   "cell_type": "markdown",
   "metadata": {
    "_uuid": "173461026a5906a00e3e6992527589da0896075f"
   },
   "source": [
    "From the above bar graph, most of the parents of students have their education up to some colleges only."
   ]
  },
  {
   "cell_type": "markdown",
   "metadata": {
    "_uuid": "8b32712db15cafc02323d1702e692b5127695961"
   },
   "source": [
    "# **Hypothesis 4: Most of the parents of passed students have their education up to associate's degree.**"
   ]
  },
  {
   "cell_type": "code",
   "execution_count": 17,
   "metadata": {
    "_uuid": "6c1fcb0bbb5d3eda253c372fde272e9c8bef9741"
   },
   "outputs": [
    {
     "data": {
      "text/plain": [
       "associate's degree    217\n",
       "some college          216\n",
       "high school           180\n",
       "some high school      163\n",
       "bachelor's degree     114\n",
       "master's degree        59\n",
       "Name: parental level of education, dtype: int64"
      ]
     },
     "execution_count": 17,
     "metadata": {},
     "output_type": "execute_result"
    }
   ],
   "source": [
    "passed_students_parent_level = passed_students['parental level of education']\n",
    "passed_students_parent_level_count = passed_students_parent_level.value_counts()\n",
    "passed_students_parent_level_count"
   ]
  },
  {
   "cell_type": "code",
   "execution_count": 18,
   "metadata": {
    "_uuid": "de68dae2ece5a3cfbf485abbc6665b2a39017d07"
   },
   "outputs": [
    {
     "data": {
      "text/plain": [
       "<matplotlib.axes._subplots.AxesSubplot at 0xde78b30>"
      ]
     },
     "execution_count": 18,
     "metadata": {},
     "output_type": "execute_result"
    },
    {
     "data": {
      "image/png": "[encoded data removed]",
      "text/plain": [
       "<Figure size 432x288 with 1 Axes>"
      ]
     },
     "metadata": {
      "needs_background": "light"
     },
     "output_type": "display_data"
    }
   ],
   "source": [
    "passed_students_parent_level_count.plot.bar()"
   ]
  },
  {
   "cell_type": "markdown",
   "metadata": {
    "_uuid": "f67f38cc86ba58e8b3436c716ae8b5aaa9aecb8d"
   },
   "source": [
    "From the above bar graph, most of the parents of passed students have their education up to associate's degree."
   ]
  },
  {
   "cell_type": "markdown",
   "metadata": {
    "_uuid": "1aea0e80817bf590a28835207104fd9551ff853f"
   },
   "source": [
    "# **Hypothesis 5: Most of the passed students are passed in first divison .**"
   ]
  },
  {
   "cell_type": "code",
   "execution_count": 19,
   "metadata": {
    "_uuid": "8b3268e87baf09f68b296ec85a94a40de8941288"
   },
   "outputs": [
    {
     "data": {
      "text/plain": [
       "first          509\n",
       "Distinction    198\n",
       "second         180\n",
       "third           52\n",
       "fail            10\n",
       "Name: grades, dtype: int64"
      ]
     },
     "execution_count": 19,
     "metadata": {},
     "output_type": "execute_result"
    }
   ],
   "source": [
    "##Identifying grades of passed students\n",
    "passed_students_grades = passed_students['grades']\n",
    "passed_students_grades_count = passed_students_grades.value_counts()\n",
    "passed_students_grades_count"
   ]
  },
  {
   "cell_type": "code",
   "execution_count": 20,
   "metadata": {
    "_uuid": "d154a28c6c59694e6def17351011031885753b65"
   },
   "outputs": [
    {
     "data": {
      "text/plain": [
       "<matplotlib.axes._subplots.AxesSubplot at 0xf0fa8b0>"
      ]
     },
     "execution_count": 20,
     "metadata": {},
     "output_type": "execute_result"
    },
    {
     "data": {
      "image/png": "[encoded data removed]",
      "text/plain": [
       "<Figure size 432x288 with 1 Axes>"
      ]
     },
     "metadata": {
      "needs_background": "light"
     },
     "output_type": "display_data"
    }
   ],
   "source": [
    "passed_students_grades_count.plot.bar()"
   ]
  },
  {
   "cell_type": "markdown",
   "metadata": {
    "_uuid": "f2a1542742e094efbb7fa64b512968870871fe47"
   },
   "source": [
    "From the above bar graph, most of passed students have secured first divsion.\n"
   ]
  },
  {
   "cell_type": "code",
   "execution_count": 21,
   "metadata": {
    "_uuid": "8a54e7c62e55e550020d0751694fd59a05bc4ec8"
   },
   "outputs": [
    {
     "name": "stdout",
     "output_type": "stream",
     "text": [
      "Total Students Failed: 51\n"
     ]
    }
   ],
   "source": [
    "##Identifying total Failed Students\n",
    "total_fail=df[df['Result']=='Fail']\n",
    "print(\"Total Students Failed:\",len(total_fail))"
   ]
  },
  {
   "cell_type": "markdown",
   "metadata": {
    "_uuid": "70bb6e6c100c101ff8019ec51e9213ff843d858b"
   },
   "source": [
    "# **Hypothesis 6: Most of the females are failed in comparison to male students**"
   ]
  },
  {
   "cell_type": "code",
   "execution_count": 22,
   "metadata": {
    "_uuid": "49c343dcb003b0a8376d43676e14024a658e0775"
   },
   "outputs": [
    {
     "name": "stdout",
     "output_type": "stream",
     "text": [
      "Total failed Male students: 20\n",
      "Total failed Female students: 31\n"
     ]
    }
   ],
   "source": [
    "##Identifying total Failed male and female Students\n",
    "total_fail_male=total_fail[total_fail['gender']=='male']\n",
    "print(\"Total failed Male students:\",len(total_fail_male))\n",
    "total_fail_female=total_fail[total_fail['gender']=='female']\n",
    "print(\"Total failed Female students:\",len(total_fail_female))"
   ]
  },
  {
   "cell_type": "code",
   "execution_count": 23,
   "metadata": {
    "_uuid": "5ac4140b4d8a6071b3867f681edf5740b97576c8"
   },
   "outputs": [
    {
     "data": {
      "text/plain": [
       "<matplotlib.axes._subplots.AxesSubplot at 0xf140610>"
      ]
     },
     "execution_count": 23,
     "metadata": {},
     "output_type": "execute_result"
    },
    {
     "data": {
      "image/png": "[encoded data removed]",
      "text/plain": [
       "<Figure size 432x288 with 1 Axes>"
      ]
     },
     "metadata": {
      "needs_background": "light"
     },
     "output_type": "display_data"
    }
   ],
   "source": [
    "total_fail_students=total_fail['gender']\n",
    "total_fail_count=total_fail_students.value_counts()\n",
    "total_fail_count.plot.bar()"
   ]
  },
  {
   "cell_type": "markdown",
   "metadata": {
    "_uuid": "b728ae91671ffb32ab41bf1466dd930b93ee176b"
   },
   "source": [
    "From the above bar graph, more number of females are failed in comparision to male students."
   ]
  },
  {
   "cell_type": "code",
   "execution_count": 24,
   "metadata": {
    "_uuid": "54e6729142da46f0d07518a3ee038199a1e9bf6c"
   },
   "outputs": [
    {
     "name": "stdout",
     "output_type": "stream",
     "text": [
      "Students Failed in all subjects: 18\n"
     ]
    }
   ],
   "source": [
    "##Identifying total failed Students in all subjects\n",
    "fail_math=df[df['math score']<40]\n",
    "fail_reading=fail_math[fail_math['reading score']<40]\n",
    "fail_students=fail_reading[fail_reading['writing score']<40]\n",
    "print(\"Students Failed in all subjects:\",len(fail_students))"
   ]
  },
  {
   "cell_type": "code",
   "execution_count": 25,
   "metadata": {
    "_uuid": "eaea2187d2219f1b2925bb3791c4ca48321e38b0"
   },
   "outputs": [
    {
     "name": "stdout",
     "output_type": "stream",
     "text": [
      "Total failed Female students in all subjects: 11\n",
      "Total failed Male students in all subjects: 7\n"
     ]
    }
   ],
   "source": [
    "##Identifying total failed male and female Students in all subjects\n",
    "fail_female=fail_students[fail_students['gender']=='female']\n",
    "print(\"Total failed Female students in all subjects:\",len(fail_female))\n",
    "fail_male=fail_students[fail_students['gender']=='male']\n",
    "print(\"Total failed Male students in all subjects:\",len(fail_male))"
   ]
  },
  {
   "cell_type": "markdown",
   "metadata": {
    "_uuid": "cbf6582a1fa9c5e3081bb90ebe0a9c27f34e9691"
   },
   "source": [
    "Therefore, more female students are failing in all subjects."
   ]
  },
  {
   "cell_type": "markdown",
   "metadata": {
    "_uuid": "81581ed0d501828f30327be1e2b68b633adf4010"
   },
   "source": [
    "# **Hypothesis 7: Students have mostly failed in maths**"
   ]
  },
  {
   "cell_type": "code",
   "execution_count": 27,
   "metadata": {
    "_uuid": "816e547680a05d4b48f1f7e53e8e9652f98aff5e"
   },
   "outputs": [
    {
     "name": "stdout",
     "output_type": "stream",
     "text": [
      "Total Students Failed in maths: 40\n",
      "Total Students Failed in reading: 26\n",
      "Total Students Failed in writing: 32\n"
     ]
    }
   ],
   "source": [
    "##Identifying total Students failed in each subject\n",
    "fail_math=df[df['math_performance']==0]\n",
    "print(\"Total Students Failed in maths:\",len(fail_math))\n",
    "fail_reading=df[df['reading_performance']==0]\n",
    "print(\"Total Students Failed in reading:\",len(fail_reading))\n",
    "fail_writing=df[df['writing_performance']==0]\n",
    "print(\"Total Students Failed in writing:\",len(fail_writing))"
   ]
  },
  {
   "cell_type": "markdown",
   "metadata": {
    "_uuid": "a3a3c23d2a8f5b3da62f71ed891378ae77caaeb3"
   },
   "source": [
    "Therefore, more students are failed in maths and comparatively less students in writing and reading."
   ]
  },
  {
   "cell_type": "markdown",
   "metadata": {
    "_uuid": "5d418ec4720a6ef22b701663a3987e21d4260003"
   },
   "source": [
    "# **Hypothesis 8: Students belonging to race group D and E are failed mostly**"
   ]
  },
  {
   "cell_type": "code",
   "execution_count": 28,
   "metadata": {
    "_uuid": "0a993e389318ea73eac219028107bdbec14866a3"
   },
   "outputs": [
    {
     "data": {
      "text/plain": [
       "group B    6\n",
       "group C    6\n",
       "group A    2\n",
       "group D    2\n",
       "group E    2\n",
       "Name: race/ethnicity, dtype: int64"
      ]
     },
     "execution_count": 28,
     "metadata": {},
     "output_type": "execute_result"
    }
   ],
   "source": [
    "##Identifying the number of race/ethnicity group of failed students\n",
    "fail_race=fail_students['race/ethnicity']\n",
    "fail_race_count=fail_race.value_counts()\n",
    "fail_race_count"
   ]
  },
  {
   "cell_type": "code",
   "execution_count": 29,
   "metadata": {
    "_uuid": "d2edbd42163f07696085602d868ec0a52ec24d67"
   },
   "outputs": [
    {
     "data": {
      "text/plain": [
       "<matplotlib.axes._subplots.AxesSubplot at 0xde9e950>"
      ]
     },
     "execution_count": 29,
     "metadata": {},
     "output_type": "execute_result"
    },
    {
     "data": {
      "image/png": "[encoded data removed]",
      "text/plain": [
       "<Figure size 432x288 with 1 Axes>"
      ]
     },
     "metadata": {
      "needs_background": "light"
     },
     "output_type": "display_data"
    }
   ],
   "source": [
    "fail_race_count.plot.bar()"
   ]
  },
  {
   "cell_type": "markdown",
   "metadata": {
    "_uuid": "b0fc77ddbf7a57e009105b22c5122d101c98b63a"
   },
   "source": [
    "From above bar graph, more numbers of students of race group B & C  are failed than of race group A, D & E."
   ]
  },
  {
   "cell_type": "code",
   "execution_count": 30,
   "metadata": {
    "_uuid": "6b49d4b334235c68a7e070c769a57fde84f1aa3b"
   },
   "outputs": [
    {
     "data": {
      "text/plain": [
       "free/reduced    15\n",
       "standard         3\n",
       "Name: lunch, dtype: int64"
      ]
     },
     "execution_count": 30,
     "metadata": {},
     "output_type": "execute_result"
    }
   ],
   "source": [
    "##Identifying the lunch of failed students\n",
    "fail_lunch=fail_students['lunch']\n",
    "fail_lunch_count=fail_lunch.value_counts()\n",
    "fail_lunch_count"
   ]
  },
  {
   "cell_type": "code",
   "execution_count": 31,
   "metadata": {
    "_uuid": "1ad14af5fa2836ca3c36353b53fbb255e93a602d"
   },
   "outputs": [
    {
     "data": {
      "text/plain": [
       "<matplotlib.axes._subplots.AxesSubplot at 0xf26c8f0>"
      ]
     },
     "execution_count": 31,
     "metadata": {},
     "output_type": "execute_result"
    },
    {
     "data": {
      "image/png": "[encoded data removed]",
      "text/plain": [
       "<Figure size 432x288 with 1 Axes>"
      ]
     },
     "metadata": {
      "needs_background": "light"
     },
     "output_type": "display_data"
    }
   ],
   "source": [
    "fail_lunch_count.plot.bar()"
   ]
  },
  {
   "cell_type": "markdown",
   "metadata": {
    "_uuid": "b0832f7fdad8e13a70a7c3e327adfca7b82d2ad3"
   },
   "source": [
    "From above bar graph, those having free/reduced lunch are failed in all subjects than those having standard lunch."
   ]
  },
  {
   "cell_type": "markdown",
   "metadata": {
    "_uuid": "20bf8afc1877b311f318557bb0736cdf74018aff"
   },
   "source": [
    "# **Hypothesis : Those students who havent taken any test preparation courses are failed.**"
   ]
  },
  {
   "cell_type": "code",
   "execution_count": 32,
   "metadata": {
    "_uuid": "1339287ec2113dadc23e86ea3d2cee231d7c05fc"
   },
   "outputs": [
    {
     "data": {
      "text/plain": [
       "none    18\n",
       "Name: test preparation course, dtype: int64"
      ]
     },
     "execution_count": 32,
     "metadata": {},
     "output_type": "execute_result"
    }
   ],
   "source": [
    "##Identifying the test preparation course of failed students\n",
    "fail_course=fail_students['test preparation course']\n",
    "fail_course_count=fail_course.value_counts()\n",
    "fail_course_count"
   ]
  },
  {
   "cell_type": "code",
   "execution_count": 33,
   "metadata": {
    "_uuid": "9bdd1767aa55dd36ee21721a187cf74d14ee4cc8"
   },
   "outputs": [
    {
     "data": {
      "text/plain": [
       "<matplotlib.axes._subplots.AxesSubplot at 0xd9bc50>"
      ]
     },
     "execution_count": 33,
     "metadata": {},
     "output_type": "execute_result"
    },
    {
     "data": {
      "image/png": "[encoded data removed]",
      "text/plain": [
       "<Figure size 432x288 with 1 Axes>"
      ]
     },
     "metadata": {
      "needs_background": "light"
     },
     "output_type": "display_data"
    }
   ],
   "source": [
    "fail_course_count.plot.bar()"
   ]
  },
  {
   "cell_type": "markdown",
   "metadata": {
    "_uuid": "4ba45d728c8e58947e8bcb39e2f5f285f2911398"
   },
   "source": [
    "Therefore, none of the failed students have taken test preparation course."
   ]
  },
  {
   "cell_type": "markdown",
   "metadata": {
    "_uuid": "371d86883ba44b05389c82e32ef3bdf92818a4f6"
   },
   "source": [
    "# **Hypothesis 9: Most of the students whose parents have their education up to some high school have failed.**"
   ]
  },
  {
   "cell_type": "code",
   "execution_count": 34,
   "metadata": {
    "_uuid": "ef8fd35b1a5609821d6412629fb029b50c75887c"
   },
   "outputs": [
    {
     "data": {
      "text/plain": [
       "some high school      7\n",
       "high school           5\n",
       "some college          5\n",
       "associate's degree    1\n",
       "Name: parental level of education, dtype: int64"
      ]
     },
     "execution_count": 34,
     "metadata": {},
     "output_type": "execute_result"
    }
   ],
   "source": [
    "##Identifying the parent level of education of failed students\n",
    "fail_students_parent_level = fail_students['parental level of education']\n",
    "fail_students_parent_level_count = fail_students_parent_level.value_counts()\n",
    "fail_students_parent_level_count"
   ]
  },
  {
   "cell_type": "code",
   "execution_count": 35,
   "metadata": {
    "_uuid": "bb3f1f4dfdba402cf84857fde7252b3ab99263ad"
   },
   "outputs": [
    {
     "data": {
      "text/plain": [
       "<matplotlib.axes._subplots.AxesSubplot at 0xdd23f0>"
      ]
     },
     "execution_count": 35,
     "metadata": {},
     "output_type": "execute_result"
    },
    {
     "data": {
      "image/png": "[encoded data removed]",
      "text/plain": [
       "<Figure size 432x288 with 1 Axes>"
      ]
     },
     "metadata": {
      "needs_background": "light"
     },
     "output_type": "display_data"
    }
   ],
   "source": [
    "fail_students_parent_level_count.plot.bar()"
   ]
  },
  {
   "cell_type": "markdown",
   "metadata": {
    "_uuid": "104deaca8182b4860a41df77c0e5229f2483056d"
   },
   "source": [
    "From the above bar graph, most of the parents of failed students have their education up to some high school."
   ]
  },
  {
   "cell_type": "code",
   "execution_count": 36,
   "metadata": {
    "_uuid": "8988bfca984e7aa2e52caa29cd8ef61ab21fa5b4"
   },
   "outputs": [
    {
     "data": {
      "text/html": [
       "<div>\n",
       "<style scoped>\n",
       "    .dataframe tbody tr th:only-of-type {\n",
       "        vertical-align: middle;\n",
       "    }\n",
       "\n",
       "    .dataframe tbody tr th {\n",
       "        vertical-align: top;\n",
       "    }\n",
       "\n",
       "    .dataframe thead th {\n",
       "        text-align: right;\n",
       "    }\n",
       "</style>\n",
       "<table border=\"1\" class=\"dataframe\">\n",
       "  <thead>\n",
       "    <tr style=\"text-align: right;\">\n",
       "      <th>math_performance</th>\n",
       "      <th>0</th>\n",
       "      <th>1</th>\n",
       "    </tr>\n",
       "    <tr>\n",
       "      <th>parental level of education</th>\n",
       "      <th></th>\n",
       "      <th></th>\n",
       "    </tr>\n",
       "  </thead>\n",
       "  <tbody>\n",
       "    <tr>\n",
       "      <th>associate's degree</th>\n",
       "      <td>3</td>\n",
       "      <td>219</td>\n",
       "    </tr>\n",
       "    <tr>\n",
       "      <th>bachelor's degree</th>\n",
       "      <td>4</td>\n",
       "      <td>114</td>\n",
       "    </tr>\n",
       "    <tr>\n",
       "      <th>high school</th>\n",
       "      <td>14</td>\n",
       "      <td>182</td>\n",
       "    </tr>\n",
       "    <tr>\n",
       "      <th>master's degree</th>\n",
       "      <td>0</td>\n",
       "      <td>59</td>\n",
       "    </tr>\n",
       "    <tr>\n",
       "      <th>some college</th>\n",
       "      <td>6</td>\n",
       "      <td>220</td>\n",
       "    </tr>\n",
       "    <tr>\n",
       "      <th>some high school</th>\n",
       "      <td>13</td>\n",
       "      <td>166</td>\n",
       "    </tr>\n",
       "  </tbody>\n",
       "</table>\n",
       "</div>"
      ],
      "text/plain": [
       "math_performance              0    1\n",
       "parental level of education         \n",
       "associate's degree            3  219\n",
       "bachelor's degree             4  114\n",
       "high school                  14  182\n",
       "master's degree               0   59\n",
       "some college                  6  220\n",
       "some high school             13  166"
      ]
     },
     "execution_count": 36,
     "metadata": {},
     "output_type": "execute_result"
    }
   ],
   "source": [
    "##Identifying the parent level of education of passed and failed students in each subjects\n",
    "parent_education_student_math_score=pd.crosstab( df['parental level of education'],df['math_performance'])\n",
    "parent_education_student_math_score"
   ]
  },
  {
   "cell_type": "code",
   "execution_count": 37,
   "metadata": {
    "_uuid": "f31e9198ed86da648b870003c778786af49d43b7"
   },
   "outputs": [
    {
     "data": {
      "text/plain": [
       "<matplotlib.axes._subplots.AxesSubplot at 0x12d0bd0>"
      ]
     },
     "execution_count": 37,
     "metadata": {},
     "output_type": "execute_result"
    },
    {
     "data": {
      "image/png": "[encoded data removed]",
      "text/plain": [
       "<Figure size 432x288 with 1 Axes>"
      ]
     },
     "metadata": {
      "needs_background": "light"
     },
     "output_type": "display_data"
    }
   ],
   "source": [
    "parent_education_student_math_score.plot.bar()"
   ]
  },
  {
   "cell_type": "markdown",
   "metadata": {
    "_uuid": "57b5a84b5b8a8f41fae290ba0bf2afa965a67f0b"
   },
   "source": [
    "From the above bar graph,most of the parents of those students who failed in math have their education up to high school and the parents of those students who passed in math have their education up to associate's degree.."
   ]
  },
  {
   "cell_type": "code",
   "execution_count": 38,
   "metadata": {
    "_uuid": "112f230361b1083b33a63ffa2e869c088f0011ab"
   },
   "outputs": [
    {
     "data": {
      "text/html": [
       "<div>\n",
       "<style scoped>\n",
       "    .dataframe tbody tr th:only-of-type {\n",
       "        vertical-align: middle;\n",
       "    }\n",
       "\n",
       "    .dataframe tbody tr th {\n",
       "        vertical-align: top;\n",
       "    }\n",
       "\n",
       "    .dataframe thead th {\n",
       "        text-align: right;\n",
       "    }\n",
       "</style>\n",
       "<table border=\"1\" class=\"dataframe\">\n",
       "  <thead>\n",
       "    <tr style=\"text-align: right;\">\n",
       "      <th>reading_performance</th>\n",
       "      <th>0</th>\n",
       "      <th>1</th>\n",
       "    </tr>\n",
       "    <tr>\n",
       "      <th>parental level of education</th>\n",
       "      <th></th>\n",
       "      <th></th>\n",
       "    </tr>\n",
       "  </thead>\n",
       "  <tbody>\n",
       "    <tr>\n",
       "      <th>associate's degree</th>\n",
       "      <td>2</td>\n",
       "      <td>220</td>\n",
       "    </tr>\n",
       "    <tr>\n",
       "      <th>bachelor's degree</th>\n",
       "      <td>0</td>\n",
       "      <td>118</td>\n",
       "    </tr>\n",
       "    <tr>\n",
       "      <th>high school</th>\n",
       "      <td>7</td>\n",
       "      <td>189</td>\n",
       "    </tr>\n",
       "    <tr>\n",
       "      <th>master's degree</th>\n",
       "      <td>0</td>\n",
       "      <td>59</td>\n",
       "    </tr>\n",
       "    <tr>\n",
       "      <th>some college</th>\n",
       "      <td>7</td>\n",
       "      <td>219</td>\n",
       "    </tr>\n",
       "    <tr>\n",
       "      <th>some high school</th>\n",
       "      <td>10</td>\n",
       "      <td>169</td>\n",
       "    </tr>\n",
       "  </tbody>\n",
       "</table>\n",
       "</div>"
      ],
      "text/plain": [
       "reading_performance           0    1\n",
       "parental level of education         \n",
       "associate's degree            2  220\n",
       "bachelor's degree             0  118\n",
       "high school                   7  189\n",
       "master's degree               0   59\n",
       "some college                  7  219\n",
       "some high school             10  169"
      ]
     },
     "execution_count": 38,
     "metadata": {},
     "output_type": "execute_result"
    }
   ],
   "source": [
    "parent_education_student_reading_score=pd.crosstab( df['parental level of education'],df['reading_performance'])\n",
    "parent_education_student_reading_score"
   ]
  },
  {
   "cell_type": "code",
   "execution_count": 39,
   "metadata": {
    "_uuid": "18bde3e589cc10e2e617346258f01ad623a8309d"
   },
   "outputs": [
    {
     "data": {
      "text/plain": [
       "<matplotlib.axes._subplots.AxesSubplot at 0x165bc50>"
      ]
     },
     "execution_count": 39,
     "metadata": {},
     "output_type": "execute_result"
    },
    {
     "data": {
      "image/png": "[encoded data removed]",
      "text/plain": [
       "<Figure size 432x288 with 1 Axes>"
      ]
     },
     "metadata": {
      "needs_background": "light"
     },
     "output_type": "display_data"
    }
   ],
   "source": [
    "parent_education_student_reading_score.plot.bar()"
   ]
  },
  {
   "cell_type": "markdown",
   "metadata": {
    "_uuid": "2cb83ee6750e2a07b3d0ca7ca3fe27f14288bd03"
   },
   "source": [
    "From the above bar graph,most of the parents of those students who failed in reading have their education up to some high school and the parents of those students who passed in reading have their education up to associate's degree.."
   ]
  },
  {
   "cell_type": "code",
   "execution_count": 40,
   "metadata": {
    "_uuid": "172d7174edfccb59ac920541b9edd5582f638237"
   },
   "outputs": [
    {
     "data": {
      "text/html": [
       "<div>\n",
       "<style scoped>\n",
       "    .dataframe tbody tr th:only-of-type {\n",
       "        vertical-align: middle;\n",
       "    }\n",
       "\n",
       "    .dataframe tbody tr th {\n",
       "        vertical-align: top;\n",
       "    }\n",
       "\n",
       "    .dataframe thead th {\n",
       "        text-align: right;\n",
       "    }\n",
       "</style>\n",
       "<table border=\"1\" class=\"dataframe\">\n",
       "  <thead>\n",
       "    <tr style=\"text-align: right;\">\n",
       "      <th>writing_performance</th>\n",
       "      <th>0</th>\n",
       "      <th>1</th>\n",
       "    </tr>\n",
       "    <tr>\n",
       "      <th>parental level of education</th>\n",
       "      <th></th>\n",
       "      <th></th>\n",
       "    </tr>\n",
       "  </thead>\n",
       "  <tbody>\n",
       "    <tr>\n",
       "      <th>associate's degree</th>\n",
       "      <td>3</td>\n",
       "      <td>219</td>\n",
       "    </tr>\n",
       "    <tr>\n",
       "      <th>bachelor's degree</th>\n",
       "      <td>2</td>\n",
       "      <td>116</td>\n",
       "    </tr>\n",
       "    <tr>\n",
       "      <th>high school</th>\n",
       "      <td>9</td>\n",
       "      <td>187</td>\n",
       "    </tr>\n",
       "    <tr>\n",
       "      <th>master's degree</th>\n",
       "      <td>0</td>\n",
       "      <td>59</td>\n",
       "    </tr>\n",
       "    <tr>\n",
       "      <th>some college</th>\n",
       "      <td>9</td>\n",
       "      <td>217</td>\n",
       "    </tr>\n",
       "    <tr>\n",
       "      <th>some high school</th>\n",
       "      <td>9</td>\n",
       "      <td>170</td>\n",
       "    </tr>\n",
       "  </tbody>\n",
       "</table>\n",
       "</div>"
      ],
      "text/plain": [
       "writing_performance          0    1\n",
       "parental level of education        \n",
       "associate's degree           3  219\n",
       "bachelor's degree            2  116\n",
       "high school                  9  187\n",
       "master's degree              0   59\n",
       "some college                 9  217\n",
       "some high school             9  170"
      ]
     },
     "execution_count": 40,
     "metadata": {},
     "output_type": "execute_result"
    }
   ],
   "source": [
    "parent_education_student_writing_score=pd.crosstab( df['parental level of education'],df['writing_performance'])\n",
    "parent_education_student_writing_score"
   ]
  },
  {
   "cell_type": "code",
   "execution_count": 41,
   "metadata": {
    "_uuid": "078a6762b6f9e45a3cf59114a7e35e73e500ac70"
   },
   "outputs": [
    {
     "data": {
      "text/plain": [
       "<matplotlib.axes._subplots.AxesSubplot at 0x17458f0>"
      ]
     },
     "execution_count": 41,
     "metadata": {},
     "output_type": "execute_result"
    },
    {
     "data": {
      "image/png": "[encoded data removed]",
      "text/plain": [
       "<Figure size 432x288 with 1 Axes>"
      ]
     },
     "metadata": {
      "needs_background": "light"
     },
     "output_type": "display_data"
    }
   ],
   "source": [
    "parent_education_student_writing_score.plot.bar()"
   ]
  },
  {
   "cell_type": "markdown",
   "metadata": {
    "_uuid": "9f4af0bdab98942667098cda74db646cf1d67f5d"
   },
   "source": [
    "From the above bar graph,most of the parents of those students who failed in writing have their education up to high school and the parents of those students who passed in reading have their education up to associate's degree."
   ]
  },
  {
   "cell_type": "markdown",
   "metadata": {
    "_uuid": "f3e1e144af61281358877b4fa2be34e6e210855d"
   },
   "source": [
    "# **Hypothesis 10: Most of the students whose parents have their education up to some high school have failed in maths  reading and writing.**\n",
    "**Or, students whose parents have their education up to master's degree havent failed in any subjects.**"
   ]
  },
  {
   "cell_type": "code",
   "execution_count": 43,
   "metadata": {
    "_uuid": "10ed91c1c316cba94b4ba3b4f555d5c84f912fbd"
   },
   "outputs": [
    {
     "data": {
      "text/plain": [
       "<matplotlib.axes._subplots.AxesSubplot at 0x1822b10>"
      ]
     },
     "execution_count": 43,
     "metadata": {},
     "output_type": "execute_result"
    },
    {
     "data": {
      "image/png": "[encoded data removed]",
      "text/plain": [
       "<Figure size 432x288 with 1 Axes>"
      ]
     },
     "metadata": {
      "needs_background": "light"
     },
     "output_type": "display_data"
    }
   ],
   "source": [
    "##identifying students performance in different subjects according to parent's education\n",
    "fail_reading_math = df[(df['math_performance'] == 0) & (df['reading_performance'] == 0)&(df['writing_performance']==0)]\n",
    "fail_reading_math['parental level of education'].value_counts().plot.bar()"
   ]
  },
  {
   "cell_type": "markdown",
   "metadata": {
    "_uuid": "b87fe1d8643f19eed471054c571c5f326bbefdb8"
   },
   "source": [
    "From the above bar graph, most of the students whose parents have their education up to some high school have failed in maths  reading and writing. Therefore, students whose parents have their education up to master's degree havent failed in any subjects."
   ]
  },
  {
   "cell_type": "markdown",
   "metadata": {
    "_uuid": "3aabfaa038e3a20cbcf4caf794eed5e5ba8436e9"
   },
   "source": [
    "# **Hypothesis 11: Most of the students whose parents have their education up to master's degree have passed in maths and writing.**\n"
   ]
  },
  {
   "cell_type": "code",
   "execution_count": 45,
   "metadata": {
    "_uuid": "42c98f9f6cafad1db8bbfb50199563095f4cdbf0"
   },
   "outputs": [
    {
     "data": {
      "text/plain": [
       "<matplotlib.axes._subplots.AxesSubplot at 0x18f1e70>"
      ]
     },
     "execution_count": 45,
     "metadata": {},
     "output_type": "execute_result"
    },
    {
     "data": {
      "image/png": "[encoded data removed]",
      "text/plain": [
       "<Figure size 432x288 with 1 Axes>"
      ]
     },
     "metadata": {
      "needs_background": "light"
     },
     "output_type": "display_data"
    }
   ],
   "source": [
    "passed_math_writing = df[(df['math_performance'] == 1) & (df['writing_performance'] == 1)]\n",
    "\n",
    "passed_math_writing['parental level of education'].value_counts().plot.bar()"
   ]
  },
  {
   "cell_type": "markdown",
   "metadata": {
    "_uuid": "8fc007b1165242295ceebc00e579ab615d6de924"
   },
   "source": [
    "Ffrom the above bar graph, most of the students whose parents have their education up to associate's degree have passed in maths and writing than those parents "
   ]
  },
  {
   "cell_type": "markdown",
   "metadata": {
    "_uuid": "d910c7e47b0471087faf58c5d26b0e3d5d181b56"
   },
   "source": [
    "# **Hypothesis 12: Most Females have secured distinction than male student**"
   ]
  },
  {
   "cell_type": "code",
   "execution_count": 46,
   "metadata": {
    "_uuid": "da6923ab9279cf333bca11cd0d1d980a63ea60f2"
   },
   "outputs": [
    {
     "data": {
      "text/html": [
       "<div>\n",
       "<style scoped>\n",
       "    .dataframe tbody tr th:only-of-type {\n",
       "        vertical-align: middle;\n",
       "    }\n",
       "\n",
       "    .dataframe tbody tr th {\n",
       "        vertical-align: top;\n",
       "    }\n",
       "\n",
       "    .dataframe thead th {\n",
       "        text-align: right;\n",
       "    }\n",
       "</style>\n",
       "<table border=\"1\" class=\"dataframe\">\n",
       "  <thead>\n",
       "    <tr style=\"text-align: right;\">\n",
       "      <th>gender</th>\n",
       "      <th>female</th>\n",
       "      <th>male</th>\n",
       "    </tr>\n",
       "    <tr>\n",
       "      <th>grades</th>\n",
       "      <th></th>\n",
       "      <th></th>\n",
       "    </tr>\n",
       "  </thead>\n",
       "  <tbody>\n",
       "    <tr>\n",
       "      <th>Distinction</th>\n",
       "      <td>118</td>\n",
       "      <td>80</td>\n",
       "    </tr>\n",
       "    <tr>\n",
       "      <th>fail</th>\n",
       "      <td>37</td>\n",
       "      <td>24</td>\n",
       "    </tr>\n",
       "    <tr>\n",
       "      <th>first</th>\n",
       "      <td>272</td>\n",
       "      <td>237</td>\n",
       "    </tr>\n",
       "    <tr>\n",
       "      <th>second</th>\n",
       "      <td>80</td>\n",
       "      <td>100</td>\n",
       "    </tr>\n",
       "    <tr>\n",
       "      <th>third</th>\n",
       "      <td>11</td>\n",
       "      <td>41</td>\n",
       "    </tr>\n",
       "  </tbody>\n",
       "</table>\n",
       "</div>"
      ],
      "text/plain": [
       "gender       female  male\n",
       "grades                   \n",
       "Distinction     118    80\n",
       "fail             37    24\n",
       "first           272   237\n",
       "second           80   100\n",
       "third            11    41"
      ]
     },
     "execution_count": 46,
     "metadata": {},
     "output_type": "execute_result"
    }
   ],
   "source": [
    "##Checking grades of female and male students.\n",
    "grades_gender=pd.crosstab(df.grades, df.gender)\n",
    "grades_gender"
   ]
  },
  {
   "cell_type": "code",
   "execution_count": 47,
   "metadata": {
    "_uuid": "1ce81e90af1a4e75a9ea62b729992daf5351144e"
   },
   "outputs": [
    {
     "data": {
      "text/plain": [
       "<matplotlib.axes._subplots.AxesSubplot at 0x1921070>"
      ]
     },
     "execution_count": 47,
     "metadata": {},
     "output_type": "execute_result"
    },
    {
     "data": {
      "image/png": "[encoded data removed]",
      "text/plain": [
       "<Figure size 432x288 with 1 Axes>"
      ]
     },
     "metadata": {
      "needs_background": "light"
     },
     "output_type": "display_data"
    }
   ],
   "source": [
    "grades_gender.plot.bar(stacked=True)"
   ]
  },
  {
   "cell_type": "markdown",
   "metadata": {
    "_uuid": "c2ef2a03898ece55a6ad1eb824cdb692874a781c"
   },
   "source": [
    "From the above bar graph, more number of females have secured distinction and first division than male students and  more number of male students have secured second and third division than of female students."
   ]
  },
  {
   "cell_type": "code",
   "execution_count": 48,
   "metadata": {
    "_uuid": "1eebd363748b798f3c8cd676aade18637061569b"
   },
   "outputs": [
    {
     "data": {
      "text/html": [
       "<div>\n",
       "<style scoped>\n",
       "    .dataframe tbody tr th:only-of-type {\n",
       "        vertical-align: middle;\n",
       "    }\n",
       "\n",
       "    .dataframe tbody tr th {\n",
       "        vertical-align: top;\n",
       "    }\n",
       "\n",
       "    .dataframe thead th {\n",
       "        text-align: right;\n",
       "    }\n",
       "</style>\n",
       "<table border=\"1\" class=\"dataframe\">\n",
       "  <thead>\n",
       "    <tr style=\"text-align: right;\">\n",
       "      <th>lunch</th>\n",
       "      <th>free/reduced</th>\n",
       "      <th>standard</th>\n",
       "    </tr>\n",
       "    <tr>\n",
       "      <th>grades</th>\n",
       "      <th></th>\n",
       "      <th></th>\n",
       "    </tr>\n",
       "  </thead>\n",
       "  <tbody>\n",
       "    <tr>\n",
       "      <th>Distinction</th>\n",
       "      <td>39</td>\n",
       "      <td>159</td>\n",
       "    </tr>\n",
       "    <tr>\n",
       "      <th>fail</th>\n",
       "      <td>45</td>\n",
       "      <td>16</td>\n",
       "    </tr>\n",
       "    <tr>\n",
       "      <th>first</th>\n",
       "      <td>158</td>\n",
       "      <td>351</td>\n",
       "    </tr>\n",
       "    <tr>\n",
       "      <th>second</th>\n",
       "      <td>91</td>\n",
       "      <td>89</td>\n",
       "    </tr>\n",
       "    <tr>\n",
       "      <th>third</th>\n",
       "      <td>22</td>\n",
       "      <td>30</td>\n",
       "    </tr>\n",
       "  </tbody>\n",
       "</table>\n",
       "</div>"
      ],
      "text/plain": [
       "lunch        free/reduced  standard\n",
       "grades                             \n",
       "Distinction            39       159\n",
       "fail                   45        16\n",
       "first                 158       351\n",
       "second                 91        89\n",
       "third                  22        30"
      ]
     },
     "execution_count": 48,
     "metadata": {},
     "output_type": "execute_result"
    }
   ],
   "source": [
    "##Checking lunch taken by students securing different grades. \n",
    "grades_lunch=pd.crosstab(df.grades, df.lunch)\n",
    "grades_lunch"
   ]
  },
  {
   "cell_type": "code",
   "execution_count": 49,
   "metadata": {
    "_uuid": "66880634606bb30a6f36fa3a6b29040f7951ba4d"
   },
   "outputs": [
    {
     "data": {
      "text/plain": [
       "<matplotlib.axes._subplots.AxesSubplot at 0x1966b30>"
      ]
     },
     "execution_count": 49,
     "metadata": {},
     "output_type": "execute_result"
    },
    {
     "data": {
      "image/png": "[encoded data removed]",
      "text/plain": [
       "<Figure size 432x288 with 1 Axes>"
      ]
     },
     "metadata": {
      "needs_background": "light"
     },
     "output_type": "display_data"
    }
   ],
   "source": [
    "grades_lunch.plot.bar(stacked=True)"
   ]
  },
  {
   "cell_type": "markdown",
   "metadata": {
    "_uuid": "3d77a2e73c8f3a0c3209aaa0a3be38e7eb828c74"
   },
   "source": [
    "From the above bar graph, most students securing distinction, first and third division have taken standard lunch and students second division have taken free/reduced lunch."
   ]
  },
  {
   "cell_type": "code",
   "execution_count": 50,
   "metadata": {
    "_uuid": "be2f6a8e419870de620c88955029eebec5b43b59"
   },
   "outputs": [
    {
     "data": {
      "text/html": [
       "<div>\n",
       "<style scoped>\n",
       "    .dataframe tbody tr th:only-of-type {\n",
       "        vertical-align: middle;\n",
       "    }\n",
       "\n",
       "    .dataframe tbody tr th {\n",
       "        vertical-align: top;\n",
       "    }\n",
       "\n",
       "    .dataframe thead th {\n",
       "        text-align: right;\n",
       "    }\n",
       "</style>\n",
       "<table border=\"1\" class=\"dataframe\">\n",
       "  <thead>\n",
       "    <tr style=\"text-align: right;\">\n",
       "      <th>grades</th>\n",
       "      <th>Distinction</th>\n",
       "      <th>fail</th>\n",
       "      <th>first</th>\n",
       "      <th>second</th>\n",
       "      <th>third</th>\n",
       "    </tr>\n",
       "    <tr>\n",
       "      <th>race/ethnicity</th>\n",
       "      <th></th>\n",
       "      <th></th>\n",
       "      <th></th>\n",
       "      <th></th>\n",
       "      <th></th>\n",
       "    </tr>\n",
       "  </thead>\n",
       "  <tbody>\n",
       "    <tr>\n",
       "      <th>group A</th>\n",
       "      <td>11</td>\n",
       "      <td>7</td>\n",
       "      <td>38</td>\n",
       "      <td>23</td>\n",
       "      <td>10</td>\n",
       "    </tr>\n",
       "    <tr>\n",
       "      <th>group B</th>\n",
       "      <td>35</td>\n",
       "      <td>14</td>\n",
       "      <td>92</td>\n",
       "      <td>36</td>\n",
       "      <td>13</td>\n",
       "    </tr>\n",
       "    <tr>\n",
       "      <th>group C</th>\n",
       "      <td>55</td>\n",
       "      <td>21</td>\n",
       "      <td>163</td>\n",
       "      <td>64</td>\n",
       "      <td>16</td>\n",
       "    </tr>\n",
       "    <tr>\n",
       "      <th>group D</th>\n",
       "      <td>53</td>\n",
       "      <td>13</td>\n",
       "      <td>144</td>\n",
       "      <td>42</td>\n",
       "      <td>10</td>\n",
       "    </tr>\n",
       "    <tr>\n",
       "      <th>group E</th>\n",
       "      <td>44</td>\n",
       "      <td>6</td>\n",
       "      <td>72</td>\n",
       "      <td>15</td>\n",
       "      <td>3</td>\n",
       "    </tr>\n",
       "  </tbody>\n",
       "</table>\n",
       "</div>"
      ],
      "text/plain": [
       "grades          Distinction  fail  first  second  third\n",
       "race/ethnicity                                         \n",
       "group A                  11     7     38      23     10\n",
       "group B                  35    14     92      36     13\n",
       "group C                  55    21    163      64     16\n",
       "group D                  53    13    144      42     10\n",
       "group E                  44     6     72      15      3"
      ]
     },
     "execution_count": 50,
     "metadata": {},
     "output_type": "execute_result"
    }
   ],
   "source": [
    "##Identifying race group of students securing different grades. \n",
    "grades_race=pd.crosstab(df['race/ethnicity'],df.grades)\n",
    "grades_race"
   ]
  },
  {
   "cell_type": "code",
   "execution_count": 51,
   "metadata": {
    "_uuid": "424e281c4b16c7c4715e3a3fd9f38a73b7d98e3d"
   },
   "outputs": [
    {
     "data": {
      "text/plain": [
       "<matplotlib.axes._subplots.AxesSubplot at 0x19b59b0>"
      ]
     },
     "execution_count": 51,
     "metadata": {},
     "output_type": "execute_result"
    },
    {
     "data": {
      "image/png": "[encoded data removed]",
      "text/plain": [
       "<Figure size 432x288 with 1 Axes>"
      ]
     },
     "metadata": {
      "needs_background": "light"
     },
     "output_type": "display_data"
    }
   ],
   "source": [
    "grades_race.plot.bar()"
   ]
  },
  {
   "cell_type": "markdown",
   "metadata": {
    "_uuid": "45dad7de8d9e69db0fbedace9272d023fd6dbbbd"
   },
   "source": [
    "From the above bar graph, most of the students securing distinction,first,second and third divison belongs to race group C and least number of the students securing distinction,first,second and third divison belongs to race group A."
   ]
  },
  {
   "cell_type": "code",
   "execution_count": 52,
   "metadata": {
    "_uuid": "2fb279fdbdbd1d1307573354c24b93a1d164991c"
   },
   "outputs": [
    {
     "data": {
      "text/html": [
       "<div>\n",
       "<style scoped>\n",
       "    .dataframe tbody tr th:only-of-type {\n",
       "        vertical-align: middle;\n",
       "    }\n",
       "\n",
       "    .dataframe tbody tr th {\n",
       "        vertical-align: top;\n",
       "    }\n",
       "\n",
       "    .dataframe thead th {\n",
       "        text-align: right;\n",
       "    }\n",
       "</style>\n",
       "<table border=\"1\" class=\"dataframe\">\n",
       "  <thead>\n",
       "    <tr style=\"text-align: right;\">\n",
       "      <th>grades</th>\n",
       "      <th>Distinction</th>\n",
       "      <th>fail</th>\n",
       "      <th>first</th>\n",
       "      <th>second</th>\n",
       "      <th>third</th>\n",
       "    </tr>\n",
       "    <tr>\n",
       "      <th>test preparation course</th>\n",
       "      <th></th>\n",
       "      <th></th>\n",
       "      <th></th>\n",
       "      <th></th>\n",
       "      <th></th>\n",
       "    </tr>\n",
       "  </thead>\n",
       "  <tbody>\n",
       "    <tr>\n",
       "      <th>completed</th>\n",
       "      <td>107</td>\n",
       "      <td>10</td>\n",
       "      <td>186</td>\n",
       "      <td>44</td>\n",
       "      <td>11</td>\n",
       "    </tr>\n",
       "    <tr>\n",
       "      <th>none</th>\n",
       "      <td>91</td>\n",
       "      <td>51</td>\n",
       "      <td>323</td>\n",
       "      <td>136</td>\n",
       "      <td>41</td>\n",
       "    </tr>\n",
       "  </tbody>\n",
       "</table>\n",
       "</div>"
      ],
      "text/plain": [
       "grades                   Distinction  fail  first  second  third\n",
       "test preparation course                                         \n",
       "completed                        107    10    186      44     11\n",
       "none                              91    51    323     136     41"
      ]
     },
     "execution_count": 52,
     "metadata": {},
     "output_type": "execute_result"
    }
   ],
   "source": [
    "##Identifying test preparation course of students securing different grades. \n",
    "grades_course=pd.crosstab(df['test preparation course'],df.grades)\n",
    "grades_course"
   ]
  },
  {
   "cell_type": "code",
   "execution_count": 53,
   "metadata": {
    "_uuid": "f65ce50ffa2fa8779d2ff70a96f34d197695b476"
   },
   "outputs": [
    {
     "data": {
      "text/plain": [
       "<matplotlib.axes._subplots.AxesSubplot at 0x1a19790>"
      ]
     },
     "execution_count": 53,
     "metadata": {},
     "output_type": "execute_result"
    },
    {
     "data": {
      "image/png": "[encoded data removed]",
      "text/plain": [
       "<Figure size 432x288 with 1 Axes>"
      ]
     },
     "metadata": {
      "needs_background": "light"
     },
     "output_type": "display_data"
    }
   ],
   "source": [
    "grades_course.plot.bar()"
   ]
  },
  {
   "cell_type": "markdown",
   "metadata": {
    "_uuid": "9f58e1383ec1c90f38d49bf4a4a43608437e9202"
   },
   "source": [
    "From the above bar graph, most of the students securing distinction,first,second and third divison haven't taken any test preparation course."
   ]
  },
  {
   "cell_type": "markdown",
   "metadata": {
    "_uuid": "3742d65e88441c69361c4e0fb886551c2be39c83"
   },
   "source": [
    "# **Hypothesis 13: Majority of those who haven't taken test preparation course have third divison.**"
   ]
  },
  {
   "cell_type": "code",
   "execution_count": 54,
   "metadata": {
    "_uuid": "e5acd3498ab7ad1e39496f7109723ba6e89e4da2"
   },
   "outputs": [
    {
     "data": {
      "text/plain": [
       "first          323\n",
       "second         136\n",
       "Distinction     91\n",
       "fail            51\n",
       "third           41\n",
       "Name: grades, dtype: int64"
      ]
     },
     "execution_count": 54,
     "metadata": {},
     "output_type": "execute_result"
    }
   ],
   "source": [
    "##Checking the test preparation course taken by students securing third divison \n",
    "test_course= df[df['test preparation course'] == 'none']\n",
    "test_course_grades=test_course['grades'].value_counts()\n",
    "test_course_grades"
   ]
  },
  {
   "cell_type": "code",
   "execution_count": 55,
   "metadata": {
    "_uuid": "a96b5a9ed79cf3e30625e2a6e51d0ddfb35f5a1e"
   },
   "outputs": [
    {
     "data": {
      "text/plain": [
       "<matplotlib.axes._subplots.AxesSubplot at 0x1a66d30>"
      ]
     },
     "execution_count": 55,
     "metadata": {},
     "output_type": "execute_result"
    },
    {
     "data": {
      "image/png": "[encoded data removed]",
      "text/plain": [
       "<Figure size 432x288 with 1 Axes>"
      ]
     },
     "metadata": {
      "needs_background": "light"
     },
     "output_type": "display_data"
    }
   ],
   "source": [
    "test_course_grades.plot.hist()"
   ]
  },
  {
   "cell_type": "markdown",
   "metadata": {
    "_uuid": "bc16d07f578d3e20cada78e457dc14ff4dd2fcc2"
   },
   "source": [
    "From the above bar diagram, Majority of those who haven't taken test preparation course have secured third divison."
   ]
  },
  {
   "cell_type": "code",
   "execution_count": 56,
   "metadata": {
    "_uuid": "579ab3331e805bea461f2b4e1d5dc505db344473"
   },
   "outputs": [
    {
     "data": {
      "text/html": [
       "<div>\n",
       "<style scoped>\n",
       "    .dataframe tbody tr th:only-of-type {\n",
       "        vertical-align: middle;\n",
       "    }\n",
       "\n",
       "    .dataframe tbody tr th {\n",
       "        vertical-align: top;\n",
       "    }\n",
       "\n",
       "    .dataframe thead th {\n",
       "        text-align: right;\n",
       "    }\n",
       "</style>\n",
       "<table border=\"1\" class=\"dataframe\">\n",
       "  <thead>\n",
       "    <tr style=\"text-align: right;\">\n",
       "      <th>grades</th>\n",
       "      <th>Distinction</th>\n",
       "      <th>fail</th>\n",
       "      <th>first</th>\n",
       "      <th>second</th>\n",
       "      <th>third</th>\n",
       "    </tr>\n",
       "    <tr>\n",
       "      <th>parental level of education</th>\n",
       "      <th></th>\n",
       "      <th></th>\n",
       "      <th></th>\n",
       "      <th></th>\n",
       "      <th></th>\n",
       "    </tr>\n",
       "  </thead>\n",
       "  <tbody>\n",
       "    <tr>\n",
       "      <th>associate's degree</th>\n",
       "      <td>51</td>\n",
       "      <td>10</td>\n",
       "      <td>112</td>\n",
       "      <td>39</td>\n",
       "      <td>10</td>\n",
       "    </tr>\n",
       "    <tr>\n",
       "      <th>bachelor's degree</th>\n",
       "      <td>31</td>\n",
       "      <td>4</td>\n",
       "      <td>66</td>\n",
       "      <td>12</td>\n",
       "      <td>5</td>\n",
       "    </tr>\n",
       "    <tr>\n",
       "      <th>high school</th>\n",
       "      <td>20</td>\n",
       "      <td>18</td>\n",
       "      <td>97</td>\n",
       "      <td>45</td>\n",
       "      <td>16</td>\n",
       "    </tr>\n",
       "    <tr>\n",
       "      <th>master's degree</th>\n",
       "      <td>20</td>\n",
       "      <td>2</td>\n",
       "      <td>29</td>\n",
       "      <td>7</td>\n",
       "      <td>1</td>\n",
       "    </tr>\n",
       "    <tr>\n",
       "      <th>some college</th>\n",
       "      <td>46</td>\n",
       "      <td>10</td>\n",
       "      <td>122</td>\n",
       "      <td>43</td>\n",
       "      <td>5</td>\n",
       "    </tr>\n",
       "    <tr>\n",
       "      <th>some high school</th>\n",
       "      <td>30</td>\n",
       "      <td>17</td>\n",
       "      <td>83</td>\n",
       "      <td>34</td>\n",
       "      <td>15</td>\n",
       "    </tr>\n",
       "  </tbody>\n",
       "</table>\n",
       "</div>"
      ],
      "text/plain": [
       "grades                       Distinction  fail  first  second  third\n",
       "parental level of education                                         \n",
       "associate's degree                    51    10    112      39     10\n",
       "bachelor's degree                     31     4     66      12      5\n",
       "high school                           20    18     97      45     16\n",
       "master's degree                       20     2     29       7      1\n",
       "some college                          46    10    122      43      5\n",
       "some high school                      30    17     83      34     15"
      ]
     },
     "execution_count": 56,
     "metadata": {},
     "output_type": "execute_result"
    }
   ],
   "source": [
    "##Identifying parent's education of students securing different grades. \n",
    "grades_parent_education=pd.crosstab(df['parental level of education'],df.grades)\n",
    "grades_parent_education"
   ]
  },
  {
   "cell_type": "code",
   "execution_count": 57,
   "metadata": {
    "_uuid": "ceac4665625245d89a2803af844d215d2ed97243"
   },
   "outputs": [
    {
     "data": {
      "text/plain": [
       "<matplotlib.axes._subplots.AxesSubplot at 0x1a9cfb0>"
      ]
     },
     "execution_count": 57,
     "metadata": {},
     "output_type": "execute_result"
    },
    {
     "data": {
      "image/png": "[encoded data removed]",
      "text/plain": [
       "<Figure size 432x288 with 1 Axes>"
      ]
     },
     "metadata": {
      "needs_background": "light"
     },
     "output_type": "display_data"
    }
   ],
   "source": [
    "grades_parent_education.plot.hist()"
   ]
  },
  {
   "cell_type": "markdown",
   "metadata": {
    "_uuid": "d8dfc8a46eeb1e6935a3a35ee9e6322430d61cd9"
   },
   "source": [
    "From the above histogram, most of the parents of students securing distinction have their education upto associate's degree.\n",
    "most of the parents of students securing first divison have their education upto some college.\n",
    "most of the parents of students securing second and third divison have their education upto high school..\n",
    "   "
   ]
  },
  {
   "cell_type": "code",
   "execution_count": 58,
   "metadata": {
    "_uuid": "a21b44f35b0ff37a728c87effaaef2efefa2d024"
   },
   "outputs": [
    {
     "data": {
      "text/html": [
       "<div>\n",
       "<style scoped>\n",
       "    .dataframe tbody tr th:only-of-type {\n",
       "        vertical-align: middle;\n",
       "    }\n",
       "\n",
       "    .dataframe tbody tr th {\n",
       "        vertical-align: top;\n",
       "    }\n",
       "\n",
       "    .dataframe thead th {\n",
       "        text-align: right;\n",
       "    }\n",
       "</style>\n",
       "<table border=\"1\" class=\"dataframe\">\n",
       "  <thead>\n",
       "    <tr style=\"text-align: right;\">\n",
       "      <th>gender</th>\n",
       "      <th>female</th>\n",
       "      <th>male</th>\n",
       "    </tr>\n",
       "    <tr>\n",
       "      <th>lunch</th>\n",
       "      <th></th>\n",
       "      <th></th>\n",
       "    </tr>\n",
       "  </thead>\n",
       "  <tbody>\n",
       "    <tr>\n",
       "      <th>free/reduced</th>\n",
       "      <td>189</td>\n",
       "      <td>166</td>\n",
       "    </tr>\n",
       "    <tr>\n",
       "      <th>standard</th>\n",
       "      <td>329</td>\n",
       "      <td>316</td>\n",
       "    </tr>\n",
       "  </tbody>\n",
       "</table>\n",
       "</div>"
      ],
      "text/plain": [
       "gender        female  male\n",
       "lunch                     \n",
       "free/reduced     189   166\n",
       "standard         329   316"
      ]
     },
     "execution_count": 58,
     "metadata": {},
     "output_type": "execute_result"
    }
   ],
   "source": [
    "##Identifying lunch taken by male and female students.\n",
    "lunch_gender=pd.crosstab(df.lunch, df.gender)\n",
    "lunch_gender"
   ]
  },
  {
   "cell_type": "code",
   "execution_count": 59,
   "metadata": {
    "_uuid": "7abc4fac8bf095186c80fdfec0e33f6548a5e617"
   },
   "outputs": [
    {
     "data": {
      "text/plain": [
       "<matplotlib.axes._subplots.AxesSubplot at 0x1b596b0>"
      ]
     },
     "execution_count": 59,
     "metadata": {},
     "output_type": "execute_result"
    },
    {
     "data": {
      "image/png": "[encoded data removed]",
      "text/plain": [
       "<Figure size 432x288 with 1 Axes>"
      ]
     },
     "metadata": {
      "needs_background": "light"
     },
     "output_type": "display_data"
    }
   ],
   "source": [
    "lunch_gender.plot.bar()"
   ]
  },
  {
   "cell_type": "markdown",
   "metadata": {
    "_uuid": "919f247a1a0a1b94c8315b969e528b9874296145"
   },
   "source": [
    "From the above bar graph, standard lunch has been taken by more number of male and female students than free/reduced lunch."
   ]
  },
  {
   "cell_type": "code",
   "execution_count": 60,
   "metadata": {
    "_uuid": "cb6031f0d1f15fa4dbde698206e83b9a636987d2"
   },
   "outputs": [
    {
     "data": {
      "text/html": [
       "<div>\n",
       "<style scoped>\n",
       "    .dataframe tbody tr th:only-of-type {\n",
       "        vertical-align: middle;\n",
       "    }\n",
       "\n",
       "    .dataframe tbody tr th {\n",
       "        vertical-align: top;\n",
       "    }\n",
       "\n",
       "    .dataframe thead th {\n",
       "        text-align: right;\n",
       "    }\n",
       "</style>\n",
       "<table border=\"1\" class=\"dataframe\">\n",
       "  <thead>\n",
       "    <tr style=\"text-align: right;\">\n",
       "      <th>race/ethnicity</th>\n",
       "      <th>group A</th>\n",
       "      <th>group B</th>\n",
       "      <th>group C</th>\n",
       "      <th>group D</th>\n",
       "      <th>group E</th>\n",
       "    </tr>\n",
       "    <tr>\n",
       "      <th>lunch</th>\n",
       "      <th></th>\n",
       "      <th></th>\n",
       "      <th></th>\n",
       "      <th></th>\n",
       "      <th></th>\n",
       "    </tr>\n",
       "  </thead>\n",
       "  <tbody>\n",
       "    <tr>\n",
       "      <th>free/reduced</th>\n",
       "      <td>36</td>\n",
       "      <td>69</td>\n",
       "      <td>114</td>\n",
       "      <td>95</td>\n",
       "      <td>41</td>\n",
       "    </tr>\n",
       "    <tr>\n",
       "      <th>standard</th>\n",
       "      <td>53</td>\n",
       "      <td>121</td>\n",
       "      <td>205</td>\n",
       "      <td>167</td>\n",
       "      <td>99</td>\n",
       "    </tr>\n",
       "  </tbody>\n",
       "</table>\n",
       "</div>"
      ],
      "text/plain": [
       "race/ethnicity  group A  group B  group C  group D  group E\n",
       "lunch                                                      \n",
       "free/reduced         36       69      114       95       41\n",
       "standard             53      121      205      167       99"
      ]
     },
     "execution_count": 60,
     "metadata": {},
     "output_type": "execute_result"
    }
   ],
   "source": [
    "##Identifying lunch taken by students of various race groups.\n",
    "lunch_race=pd.crosstab(df.lunch, df['race/ethnicity'])\n",
    "lunch_race"
   ]
  },
  {
   "cell_type": "code",
   "execution_count": 61,
   "metadata": {
    "_uuid": "c1a0677678b02ad76075500cd8c84913cf5e5858"
   },
   "outputs": [
    {
     "data": {
      "text/plain": [
       "<matplotlib.axes._subplots.AxesSubplot at 0x1b9ec10>"
      ]
     },
     "execution_count": 61,
     "metadata": {},
     "output_type": "execute_result"
    },
    {
     "data": {
      "image/png": "[encoded data removed]",
      "text/plain": [
       "<Figure size 432x288 with 1 Axes>"
      ]
     },
     "metadata": {
      "needs_background": "light"
     },
     "output_type": "display_data"
    }
   ],
   "source": [
    "lunch_race.plot.bar()"
   ]
  },
  {
   "cell_type": "markdown",
   "metadata": {
    "_uuid": "01b6d600767cdc3daad71840315ec66a9a14e6dd"
   },
   "source": [
    "From the above bar graph, standard lunch has been taken all race groups of students."
   ]
  },
  {
   "cell_type": "markdown",
   "metadata": {
    "_uuid": "9c3caa0d0d3d11d47c0791f44a40d065f5a291be"
   },
   "source": [
    "# Hypothesis 14: Those students belonging to group C have taken standard lunch"
   ]
  },
  {
   "cell_type": "code",
   "execution_count": 62,
   "metadata": {
    "_uuid": "48859be93c404185dad8594286ef5890c39958c9"
   },
   "outputs": [
    {
     "data": {
      "text/plain": [
       "standard        205\n",
       "free/reduced    114\n",
       "Name: lunch, dtype: int64"
      ]
     },
     "execution_count": 62,
     "metadata": {},
     "output_type": "execute_result"
    }
   ],
   "source": [
    "##Checking whether students of group C have taken standard lunch or not.\n",
    "lunch_standard = df[df['race/ethnicity'] == 'group C']\n",
    "lunch_standard['lunch'].value_counts()"
   ]
  },
  {
   "cell_type": "markdown",
   "metadata": {
    "_uuid": "bbc0895e194c581e7a1a81330c3de0fda9b42f77"
   },
   "source": [
    "From the above result,most of the students belonging to group C have taken standard lunch."
   ]
  },
  {
   "cell_type": "code",
   "execution_count": 63,
   "metadata": {
    "_uuid": "7fa461a273ece9b0da8bf05d8c3b3bdf2a7dd05c"
   },
   "outputs": [
    {
     "data": {
      "text/html": [
       "<div>\n",
       "<style scoped>\n",
       "    .dataframe tbody tr th:only-of-type {\n",
       "        vertical-align: middle;\n",
       "    }\n",
       "\n",
       "    .dataframe tbody tr th {\n",
       "        vertical-align: top;\n",
       "    }\n",
       "\n",
       "    .dataframe thead th {\n",
       "        text-align: right;\n",
       "    }\n",
       "</style>\n",
       "<table border=\"1\" class=\"dataframe\">\n",
       "  <thead>\n",
       "    <tr style=\"text-align: right;\">\n",
       "      <th>test preparation course</th>\n",
       "      <th>completed</th>\n",
       "      <th>none</th>\n",
       "    </tr>\n",
       "    <tr>\n",
       "      <th>lunch</th>\n",
       "      <th></th>\n",
       "      <th></th>\n",
       "    </tr>\n",
       "  </thead>\n",
       "  <tbody>\n",
       "    <tr>\n",
       "      <th>free/reduced</th>\n",
       "      <td>131</td>\n",
       "      <td>224</td>\n",
       "    </tr>\n",
       "    <tr>\n",
       "      <th>standard</th>\n",
       "      <td>227</td>\n",
       "      <td>418</td>\n",
       "    </tr>\n",
       "  </tbody>\n",
       "</table>\n",
       "</div>"
      ],
      "text/plain": [
       "test preparation course  completed  none\n",
       "lunch                                   \n",
       "free/reduced                   131   224\n",
       "standard                       227   418"
      ]
     },
     "execution_count": 63,
     "metadata": {},
     "output_type": "execute_result"
    }
   ],
   "source": [
    "##Identifying lunch taken by students of test preparation course.\n",
    "lunch_test_course=pd.crosstab(df.lunch, df['test preparation course'])\n",
    "lunch_test_course"
   ]
  },
  {
   "cell_type": "code",
   "execution_count": 64,
   "metadata": {
    "_uuid": "280272755ae2d08a19d1f9767dbbaa4a08b3726a"
   },
   "outputs": [
    {
     "data": {
      "text/plain": [
       "<matplotlib.axes._subplots.AxesSubplot at 0xf4e39d0>"
      ]
     },
     "execution_count": 64,
     "metadata": {},
     "output_type": "execute_result"
    },
    {
     "data": {
      "image/png": "[encoded data removed]",
      "text/plain": [
       "<Figure size 432x288 with 1 Axes>"
      ]
     },
     "metadata": {
      "needs_background": "light"
     },
     "output_type": "display_data"
    }
   ],
   "source": [
    "lunch_test_course.plot.bar()"
   ]
  },
  {
   "cell_type": "markdown",
   "metadata": {
    "_uuid": "99c5311733dcccf4928096c3917871adbfda3c46"
   },
   "source": [
    "From the above bar graph, standard lunch has been taken most of the students who have and haven't prepared for test preparation course."
   ]
  },
  {
   "cell_type": "code",
   "execution_count": 65,
   "metadata": {
    "_uuid": "e5fe98aa0966451bed1fc5ab8566a83143266bb2"
   },
   "outputs": [
    {
     "data": {
      "text/html": [
       "<div>\n",
       "<style scoped>\n",
       "    .dataframe tbody tr th:only-of-type {\n",
       "        vertical-align: middle;\n",
       "    }\n",
       "\n",
       "    .dataframe tbody tr th {\n",
       "        vertical-align: top;\n",
       "    }\n",
       "\n",
       "    .dataframe thead th {\n",
       "        text-align: right;\n",
       "    }\n",
       "</style>\n",
       "<table border=\"1\" class=\"dataframe\">\n",
       "  <thead>\n",
       "    <tr style=\"text-align: right;\">\n",
       "      <th>parental level of education</th>\n",
       "      <th>associate's degree</th>\n",
       "      <th>bachelor's degree</th>\n",
       "      <th>high school</th>\n",
       "      <th>master's degree</th>\n",
       "      <th>some college</th>\n",
       "      <th>some high school</th>\n",
       "    </tr>\n",
       "    <tr>\n",
       "      <th>test preparation course</th>\n",
       "      <th></th>\n",
       "      <th></th>\n",
       "      <th></th>\n",
       "      <th></th>\n",
       "      <th></th>\n",
       "      <th></th>\n",
       "    </tr>\n",
       "  </thead>\n",
       "  <tbody>\n",
       "    <tr>\n",
       "      <th>completed</th>\n",
       "      <td>82</td>\n",
       "      <td>46</td>\n",
       "      <td>56</td>\n",
       "      <td>20</td>\n",
       "      <td>77</td>\n",
       "      <td>77</td>\n",
       "    </tr>\n",
       "    <tr>\n",
       "      <th>none</th>\n",
       "      <td>140</td>\n",
       "      <td>72</td>\n",
       "      <td>140</td>\n",
       "      <td>39</td>\n",
       "      <td>149</td>\n",
       "      <td>102</td>\n",
       "    </tr>\n",
       "  </tbody>\n",
       "</table>\n",
       "</div>"
      ],
      "text/plain": [
       "parental level of education  associate's degree  bachelor's degree  \\\n",
       "test preparation course                                              \n",
       "completed                                    82                 46   \n",
       "none                                        140                 72   \n",
       "\n",
       "parental level of education  high school  master's degree  some college  \\\n",
       "test preparation course                                                   \n",
       "completed                             56               20            77   \n",
       "none                                 140               39           149   \n",
       "\n",
       "parental level of education  some high school  \n",
       "test preparation course                        \n",
       "completed                                  77  \n",
       "none                                      102  "
      ]
     },
     "execution_count": 65,
     "metadata": {},
     "output_type": "execute_result"
    }
   ],
   "source": [
    "##Identifying test preparation course according to the parental level of education of students.\n",
    "test_course_parent_education=pd.crosstab(df['test preparation course'], df['parental level of education'])\n",
    "test_course_parent_education"
   ]
  },
  {
   "cell_type": "code",
   "execution_count": 66,
   "metadata": {
    "_uuid": "00c648052523c4af38c5682200b7932981dfdd85"
   },
   "outputs": [
    {
     "data": {
      "text/plain": [
       "<matplotlib.axes._subplots.AxesSubplot at 0xf532410>"
      ]
     },
     "execution_count": 66,
     "metadata": {},
     "output_type": "execute_result"
    },
    {
     "data": {
      "image/png": "[encoded data removed]",
      "text/plain": [
       "<Figure size 432x288 with 1 Axes>"
      ]
     },
     "metadata": {
      "needs_background": "light"
     },
     "output_type": "display_data"
    }
   ],
   "source": [
    "test_course_parent_education.plot.line()"
   ]
  },
  {
   "cell_type": "markdown",
   "metadata": {
    "_uuid": "5d1a155791304b6e9193631e1533388660b6415d"
   },
   "source": [
    "From the above line graph, none of the test preparation courses has been taken by students of most of the parents of different level of education."
   ]
  },
  {
   "cell_type": "markdown",
   "metadata": {
    "_uuid": "4e52c74bb74c627945702ef983eb1142e3ba0328"
   },
   "source": [
    "# Hypothesis 15: Most of the students whose parent's have bachelor's degree does not take test preparation course\n"
   ]
  },
  {
   "cell_type": "code",
   "execution_count": 67,
   "metadata": {
    "_uuid": "17dca5498c09020ae7c39454506e433192ada0bd"
   },
   "outputs": [
    {
     "data": {
      "text/plain": [
       "Text(0, 0.5, 'No. of students')"
      ]
     },
     "execution_count": 67,
     "metadata": {},
     "output_type": "execute_result"
    },
    {
     "data": {
      "image/png": "[encoded data removed]",
      "text/plain": [
       "<Figure size 432x288 with 1 Axes>"
      ]
     },
     "metadata": {
      "needs_background": "light"
     },
     "output_type": "display_data"
    }
   ],
   "source": [
    "##Identifying whether the students whose parent's have bachelor's degree does not take test preparation course \n",
    "import matplotlib.pyplot as plt \n",
    "bachelor_degree = df[df['parental level of education'] == 'bachelor\\'s degree']\n",
    "bachelor_degree_course = bachelor_degree['test preparation course'].value_counts()\n",
    "bachelor_degree_course.plot.bar()\n",
    "plt.xlabel(\"Test preparation course\")\n",
    "plt.ylabel(\"No. of students\")\n"
   ]
  },
  {
   "cell_type": "markdown",
   "metadata": {
    "_uuid": "f21406a753ea709c058de673a901bff2212e08be"
   },
   "source": [
    "From the above diagram, Most of the students whose parent's have bachelor's degree does not take test preparation course. "
   ]
  },
  {
   "cell_type": "code",
   "execution_count": 68,
   "metadata": {
    "_uuid": "ad52a693c5f6e08f771b211a5211816828db66fe"
   },
   "outputs": [
    {
     "data": {
      "text/html": [
       "<div>\n",
       "<style scoped>\n",
       "    .dataframe tbody tr th:only-of-type {\n",
       "        vertical-align: middle;\n",
       "    }\n",
       "\n",
       "    .dataframe tbody tr th {\n",
       "        vertical-align: top;\n",
       "    }\n",
       "\n",
       "    .dataframe thead th {\n",
       "        text-align: right;\n",
       "    }\n",
       "</style>\n",
       "<table border=\"1\" class=\"dataframe\">\n",
       "  <thead>\n",
       "    <tr style=\"text-align: right;\">\n",
       "      <th>race/ethnicity</th>\n",
       "      <th>group A</th>\n",
       "      <th>group B</th>\n",
       "      <th>group C</th>\n",
       "      <th>group D</th>\n",
       "      <th>group E</th>\n",
       "    </tr>\n",
       "    <tr>\n",
       "      <th>test preparation course</th>\n",
       "      <th></th>\n",
       "      <th></th>\n",
       "      <th></th>\n",
       "      <th></th>\n",
       "      <th></th>\n",
       "    </tr>\n",
       "  </thead>\n",
       "  <tbody>\n",
       "    <tr>\n",
       "      <th>completed</th>\n",
       "      <td>31</td>\n",
       "      <td>68</td>\n",
       "      <td>117</td>\n",
       "      <td>82</td>\n",
       "      <td>60</td>\n",
       "    </tr>\n",
       "    <tr>\n",
       "      <th>none</th>\n",
       "      <td>58</td>\n",
       "      <td>122</td>\n",
       "      <td>202</td>\n",
       "      <td>180</td>\n",
       "      <td>80</td>\n",
       "    </tr>\n",
       "  </tbody>\n",
       "</table>\n",
       "</div>"
      ],
      "text/plain": [
       "race/ethnicity           group A  group B  group C  group D  group E\n",
       "test preparation course                                             \n",
       "completed                     31       68      117       82       60\n",
       "none                          58      122      202      180       80"
      ]
     },
     "execution_count": 68,
     "metadata": {},
     "output_type": "execute_result"
    }
   ],
   "source": [
    "##Identifying test preparation course according to race groups of students.\n",
    "test_course_race=pd.crosstab(df['test preparation course'], df['race/ethnicity'])\n",
    "test_course_race"
   ]
  },
  {
   "cell_type": "code",
   "execution_count": 69,
   "metadata": {
    "_uuid": "2c66d38d0d0d93a78acbd7a53f8144b50c43a105"
   },
   "outputs": [
    {
     "data": {
      "text/plain": [
       "<matplotlib.axes._subplots.AxesSubplot at 0xf55c870>"
      ]
     },
     "execution_count": 69,
     "metadata": {},
     "output_type": "execute_result"
    },
    {
     "data": {
      "image/png": "[encoded data removed]",
      "text/plain": [
       "<Figure size 432x288 with 1 Axes>"
      ]
     },
     "metadata": {
      "needs_background": "light"
     },
     "output_type": "display_data"
    }
   ],
   "source": [
    "test_course_race.plot.bar()"
   ]
  },
  {
   "cell_type": "markdown",
   "metadata": {
    "_uuid": "a9a4f28bd7ac0e49d54cd32c771de7d852e2d6e5"
   },
   "source": [
    "From the above bar graph, none of the test preparation courses has been taken by most of the students of different race groups."
   ]
  },
  {
   "cell_type": "code",
   "execution_count": 70,
   "metadata": {
    "_uuid": "9503856bd38cbb27c630e9615187f21aae29fa14"
   },
   "outputs": [
    {
     "data": {
      "text/html": [
       "<div>\n",
       "<style scoped>\n",
       "    .dataframe tbody tr th:only-of-type {\n",
       "        vertical-align: middle;\n",
       "    }\n",
       "\n",
       "    .dataframe tbody tr th {\n",
       "        vertical-align: top;\n",
       "    }\n",
       "\n",
       "    .dataframe thead th {\n",
       "        text-align: right;\n",
       "    }\n",
       "</style>\n",
       "<table border=\"1\" class=\"dataframe\">\n",
       "  <thead>\n",
       "    <tr style=\"text-align: right;\">\n",
       "      <th>race/ethnicity</th>\n",
       "      <th>group A</th>\n",
       "      <th>group B</th>\n",
       "      <th>group C</th>\n",
       "      <th>group D</th>\n",
       "      <th>group E</th>\n",
       "    </tr>\n",
       "    <tr>\n",
       "      <th>parental level of education</th>\n",
       "      <th></th>\n",
       "      <th></th>\n",
       "      <th></th>\n",
       "      <th></th>\n",
       "      <th></th>\n",
       "    </tr>\n",
       "  </thead>\n",
       "  <tbody>\n",
       "    <tr>\n",
       "      <th>associate's degree</th>\n",
       "      <td>14</td>\n",
       "      <td>41</td>\n",
       "      <td>78</td>\n",
       "      <td>50</td>\n",
       "      <td>39</td>\n",
       "    </tr>\n",
       "    <tr>\n",
       "      <th>bachelor's degree</th>\n",
       "      <td>12</td>\n",
       "      <td>20</td>\n",
       "      <td>40</td>\n",
       "      <td>28</td>\n",
       "      <td>18</td>\n",
       "    </tr>\n",
       "    <tr>\n",
       "      <th>high school</th>\n",
       "      <td>18</td>\n",
       "      <td>48</td>\n",
       "      <td>64</td>\n",
       "      <td>44</td>\n",
       "      <td>22</td>\n",
       "    </tr>\n",
       "    <tr>\n",
       "      <th>master's degree</th>\n",
       "      <td>3</td>\n",
       "      <td>6</td>\n",
       "      <td>19</td>\n",
       "      <td>23</td>\n",
       "      <td>8</td>\n",
       "    </tr>\n",
       "    <tr>\n",
       "      <th>some college</th>\n",
       "      <td>18</td>\n",
       "      <td>37</td>\n",
       "      <td>69</td>\n",
       "      <td>67</td>\n",
       "      <td>35</td>\n",
       "    </tr>\n",
       "    <tr>\n",
       "      <th>some high school</th>\n",
       "      <td>24</td>\n",
       "      <td>38</td>\n",
       "      <td>49</td>\n",
       "      <td>50</td>\n",
       "      <td>18</td>\n",
       "    </tr>\n",
       "  </tbody>\n",
       "</table>\n",
       "</div>"
      ],
      "text/plain": [
       "race/ethnicity               group A  group B  group C  group D  group E\n",
       "parental level of education                                             \n",
       "associate's degree                14       41       78       50       39\n",
       "bachelor's degree                 12       20       40       28       18\n",
       "high school                       18       48       64       44       22\n",
       "master's degree                    3        6       19       23        8\n",
       "some college                      18       37       69       67       35\n",
       "some high school                  24       38       49       50       18"
      ]
     },
     "execution_count": 70,
     "metadata": {},
     "output_type": "execute_result"
    }
   ],
   "source": [
    "##Identifying parental level of education according to race groups of students.\n",
    "parent_education_race=pd.crosstab(df['parental level of education'], df['race/ethnicity'])\n",
    "parent_education_race"
   ]
  },
  {
   "cell_type": "code",
   "execution_count": 71,
   "metadata": {
    "_uuid": "80f445d2a5891d0fab3443a11cdd6f57a55727f7"
   },
   "outputs": [
    {
     "data": {
      "text/plain": [
       "<matplotlib.axes._subplots.AxesSubplot at 0xf56c090>"
      ]
     },
     "execution_count": 71,
     "metadata": {},
     "output_type": "execute_result"
    },
    {
     "data": {
      "image/png": "[encoded data removed]",
      "text/plain": [
       "<Figure size 432x288 with 1 Axes>"
      ]
     },
     "metadata": {
      "needs_background": "light"
     },
     "output_type": "display_data"
    }
   ],
   "source": [
    "parent_education_race.plot.bar()"
   ]
  },
  {
   "cell_type": "markdown",
   "metadata": {
    "_uuid": "b633642460e709c6289a72b6af2535a535877f3f"
   },
   "source": [
    "From the above bar graph, most of the parents of race group A have their education upto some high school.\n",
    "most of the parents of race group B have their education upto high school.\n",
    "most of the parents of race group C have their education upto associate's degree.\n",
    "most of the parents of race group D have their education upto some college.\n",
    "most of the parents of race group E have their education upto associate's degree.\n",
    "\n",
    "   "
   ]
  },
  {
   "cell_type": "markdown",
   "metadata": {
    "_uuid": "82d5ceb3d15390a636018ac61623461df8bb4ef1"
   },
   "source": [
    "# **Hypothesis 17:  Male Students passing in all subjects  gives standard lunch only.**"
   ]
  },
  {
   "cell_type": "code",
   "execution_count": 72,
   "metadata": {
    "_uuid": "36f6f9ef29b3eec1679f0ec8f2622ca7c8c24237"
   },
   "outputs": [
    {
     "data": {
      "text/plain": [
       "<matplotlib.axes._subplots.AxesSubplot at 0xcded550>"
      ]
     },
     "execution_count": 72,
     "metadata": {},
     "output_type": "execute_result"
    },
    {
     "data": {
      "image/png": "[encoded data removed]",
      "text/plain": [
       "<Figure size 432x288 with 1 Axes>"
      ]
     },
     "metadata": {
      "needs_background": "light"
     },
     "output_type": "display_data"
    }
   ],
   "source": [
    "##Checking whether Male Students passing in all subjects  gives standard lunch only or not\n",
    "Result_pass = df[df['Result'] == 'Pass']\n",
    "Result_pass_male = Result_pass[Result_pass['gender'] == 'male']\n",
    "Result_pass_male['lunch'].value_counts().plot.bar()\n"
   ]
  },
  {
   "cell_type": "markdown",
   "metadata": {
    "_uuid": "8a3c36b30300b0a4ff143c203e18a0c976977fee"
   },
   "source": [
    "Therefore, from above bar graph, Male Students passing in all subjects gives standard lunch only."
   ]
  },
  {
   "cell_type": "markdown",
   "metadata": {
    "_uuid": "c6154f35feb3da9d4f380d62a7fe473bd94d133d"
   },
   "source": [
    "# **Hypothesis 18: Passed students with parents of bachelor's degree does not take test preparation course**"
   ]
  },
  {
   "cell_type": "code",
   "execution_count": 73,
   "metadata": {
    "_uuid": "126d84244f9abb0a8dea89ad728f47e59891a66c"
   },
   "outputs": [
    {
     "data": {
      "text/plain": [
       "<matplotlib.axes._subplots.AxesSubplot at 0x10691e30>"
      ]
     },
     "execution_count": 73,
     "metadata": {},
     "output_type": "execute_result"
    },
    {
     "data": {
      "image/png": "[encoded data removed]",
      "text/plain": [
       "<Figure size 432x288 with 1 Axes>"
      ]
     },
     "metadata": {
      "needs_background": "light"
     },
     "output_type": "display_data"
    }
   ],
   "source": [
    "##Identifying whether Passed students with parents of bachelor's degree is taking test preparation course or not\n",
    "Result_pass = df[df['Result'] == 'Pass']\n",
    "Result_pass_parent = Result_pass[Result_pass['parental level of education'] == 'bachelor\\'s degree']\n",
    "Result_pass_parent['test preparation course'].value_counts().plot.bar()\n"
   ]
  },
  {
   "cell_type": "markdown",
   "metadata": {
    "_uuid": "7795a7d582986ec2934e4b1cf4e414ca90499bb4"
   },
   "source": [
    "From the above bar graph, Passed students with parents of bachelor's degree does not take test preparation course."
   ]
  },
  {
   "cell_type": "markdown",
   "metadata": {
    "_uuid": "2aa4c64a94b4ba4f747b8cafe89f277c973dc4dd"
   },
   "source": [
    "# Hypothesis 16: Does the sterotype of male being good at maths and female being good at literature exists? "
   ]
  },
  {
   "cell_type": "code",
   "execution_count": 74,
   "metadata": {
    "_uuid": "56db57d60e44ad51adea1551d923def57885d2f6"
   },
   "outputs": [
    {
     "data": {
      "text/html": [
       "<div>\n",
       "<style scoped>\n",
       "    .dataframe tbody tr th:only-of-type {\n",
       "        vertical-align: middle;\n",
       "    }\n",
       "\n",
       "    .dataframe tbody tr th {\n",
       "        vertical-align: top;\n",
       "    }\n",
       "\n",
       "    .dataframe thead th {\n",
       "        text-align: right;\n",
       "    }\n",
       "</style>\n",
       "<table border=\"1\" class=\"dataframe\">\n",
       "  <thead>\n",
       "    <tr style=\"text-align: right;\">\n",
       "      <th>math_performance</th>\n",
       "      <th>0</th>\n",
       "      <th>1</th>\n",
       "    </tr>\n",
       "    <tr>\n",
       "      <th>gender</th>\n",
       "      <th></th>\n",
       "      <th></th>\n",
       "    </tr>\n",
       "  </thead>\n",
       "  <tbody>\n",
       "    <tr>\n",
       "      <th>female</th>\n",
       "      <td>31</td>\n",
       "      <td>487</td>\n",
       "    </tr>\n",
       "    <tr>\n",
       "      <th>male</th>\n",
       "      <td>9</td>\n",
       "      <td>473</td>\n",
       "    </tr>\n",
       "  </tbody>\n",
       "</table>\n",
       "</div>"
      ],
      "text/plain": [
       "math_performance   0    1\n",
       "gender                   \n",
       "female            31  487\n",
       "male               9  473"
      ]
     },
     "execution_count": 74,
     "metadata": {},
     "output_type": "execute_result"
    }
   ],
   "source": [
    "##Identifying math performance of male and female students.\n",
    "math_gender=pd.crosstab( df['gender'],df['math_performance'])\n",
    "math_gender"
   ]
  },
  {
   "cell_type": "code",
   "execution_count": 75,
   "metadata": {
    "_uuid": "9f3eebbc05a2510cb89a3122eb3b316eeef5d716"
   },
   "outputs": [
    {
     "data": {
      "text/plain": [
       "<matplotlib.axes._subplots.AxesSubplot at 0x106ce550>"
      ]
     },
     "execution_count": 75,
     "metadata": {},
     "output_type": "execute_result"
    },
    {
     "data": {
      "image/png": "[encoded data removed]",
      "text/plain": [
       "<Figure size 432x288 with 1 Axes>"
      ]
     },
     "metadata": {
      "needs_background": "light"
     },
     "output_type": "display_data"
    }
   ],
   "source": [
    "math_gender.plot.bar()"
   ]
  },
  {
   "cell_type": "markdown",
   "metadata": {
    "_uuid": "2cbdd5739d309467ebbbba4d40416c64a9a1552d"
   },
   "source": [
    "From the above bar graph, female students have comparatively done good in maths than male students but also more female students have failed in maths. "
   ]
  },
  {
   "cell_type": "code",
   "execution_count": 76,
   "metadata": {
    "_uuid": "138faf8bb06124097a0a3a4e6f9d75e766533beb"
   },
   "outputs": [
    {
     "data": {
      "text/html": [
       "<div>\n",
       "<style scoped>\n",
       "    .dataframe tbody tr th:only-of-type {\n",
       "        vertical-align: middle;\n",
       "    }\n",
       "\n",
       "    .dataframe tbody tr th {\n",
       "        vertical-align: top;\n",
       "    }\n",
       "\n",
       "    .dataframe thead th {\n",
       "        text-align: right;\n",
       "    }\n",
       "</style>\n",
       "<table border=\"1\" class=\"dataframe\">\n",
       "  <thead>\n",
       "    <tr style=\"text-align: right;\">\n",
       "      <th>writing_performance</th>\n",
       "      <th>0</th>\n",
       "      <th>1</th>\n",
       "    </tr>\n",
       "    <tr>\n",
       "      <th>gender</th>\n",
       "      <th></th>\n",
       "      <th></th>\n",
       "    </tr>\n",
       "  </thead>\n",
       "  <tbody>\n",
       "    <tr>\n",
       "      <th>female</th>\n",
       "      <td>14</td>\n",
       "      <td>504</td>\n",
       "    </tr>\n",
       "    <tr>\n",
       "      <th>male</th>\n",
       "      <td>18</td>\n",
       "      <td>464</td>\n",
       "    </tr>\n",
       "  </tbody>\n",
       "</table>\n",
       "</div>"
      ],
      "text/plain": [
       "writing_performance   0    1\n",
       "gender                      \n",
       "female               14  504\n",
       "male                 18  464"
      ]
     },
     "execution_count": 76,
     "metadata": {},
     "output_type": "execute_result"
    }
   ],
   "source": [
    "##Identifying writing performance of male and female students.\n",
    "writing_gender=pd.crosstab( df['gender'],df['writing_performance'])\n",
    "writing_gender"
   ]
  },
  {
   "cell_type": "code",
   "execution_count": 77,
   "metadata": {
    "_uuid": "c465a799f526b07f42b8d8dde7e93b6adbcf8563"
   },
   "outputs": [
    {
     "data": {
      "text/plain": [
       "<matplotlib.axes._subplots.AxesSubplot at 0x1071a830>"
      ]
     },
     "execution_count": 77,
     "metadata": {},
     "output_type": "execute_result"
    },
    {
     "data": {
      "image/png": "[encoded data removed]",
      "text/plain": [
       "<Figure size 432x288 with 1 Axes>"
      ]
     },
     "metadata": {
      "needs_background": "light"
     },
     "output_type": "display_data"
    }
   ],
   "source": [
    "writing_gender.plot.bar()"
   ]
  },
  {
   "cell_type": "markdown",
   "metadata": {
    "_uuid": "697bb342321da6c6fd6c856cb498917797923dc2"
   },
   "source": [
    "From the above bar graph, female students have comparatively done good in writing than male students.Therefore, the sterotype of male being good at maths and female being good at literature doesn't exist. "
   ]
  },
  {
   "cell_type": "markdown",
   "metadata": {
    "_uuid": "ae08f80918f35ece9f910ba37a464315418a6a47"
   },
   "source": [
    "# Hypothesis 17: Passed female students have mostly secured distinction."
   ]
  },
  {
   "cell_type": "code",
   "execution_count": 78,
   "metadata": {},
   "outputs": [
    {
     "data": {
      "text/plain": [
       "<matplotlib.axes._subplots.AxesSubplot at 0x107587b0>"
      ]
     },
     "execution_count": 78,
     "metadata": {},
     "output_type": "execute_result"
    },
    {
     "data": {
      "image/png": "[encoded data removed]",
      "text/plain": [
       "<Figure size 432x288 with 1 Axes>"
      ]
     },
     "metadata": {
      "needs_background": "light"
     },
     "output_type": "display_data"
    }
   ],
   "source": [
    "import matplotlib.pyplot as plt\n",
    "gender = df[df['gender'] == 'female']\n",
    "gender_percentage = gender[gender['Result'] == 'Pass']\n",
    "gender_percentage['grades'].value_counts().plot.bar()\n"
   ]
  },
  {
   "cell_type": "markdown",
   "metadata": {},
   "source": [
    "Therefore, we can see that passed female students have mostly secured first divison."
   ]
  },
  {
   "cell_type": "code",
   "execution_count": 79,
   "metadata": {},
   "outputs": [
    {
     "data": {
      "text/plain": [
       "<matplotlib.collections.PathCollection at 0x107b6430>"
      ]
     },
     "execution_count": 79,
     "metadata": {},
     "output_type": "execute_result"
    },
    {
     "data": {
      "image/png": "[encoded data removed]",
      "text/plain": [
       "<Figure size 432x288 with 1 Axes>"
      ]
     },
     "metadata": {
      "needs_background": "light"
     },
     "output_type": "display_data"
    }
   ],
   "source": [
    "#comparing reading score and writing score\n",
    "plt.scatter(df['reading score'],df['writing score'])"
   ]
  },
  {
   "cell_type": "code",
   "execution_count": 94,
   "metadata": {},
   "outputs": [
    {
     "data": {
      "image/png": "[encoded data removed]",
      "text/plain": [
       "<Figure size 432x288 with 1 Axes>"
      ]
     },
     "metadata": {
      "needs_background": "light"
     },
     "output_type": "display_data"
    }
   ],
   "source": [
    "import seaborn as sns\n",
    "sns.scatterplot(x=\"writing score\", y=\"math score\", data=df)\n",
    "plt.title(\"Writing vs Math\")\n",
    "plt.show()"
   ]
  },
  {
   "cell_type": "code",
   "execution_count": 95,
   "metadata": {},
   "outputs": [
    {
     "data": {
      "image/png": "[encoded data removed]",
      "text/plain": [
       "<Figure size 432x288 with 1 Axes>"
      ]
     },
     "metadata": {
      "needs_background": "light"
     },
     "output_type": "display_data"
    }
   ],
   "source": [
    "sns.scatterplot(x=\"reading score\", y=\"math score\", data=df)\n",
    "plt.title(\"Reading vs Math\")\n",
    "plt.show()"
   ]
  },
  {
   "cell_type": "code",
   "execution_count": 82,
   "metadata": {},
   "outputs": [
    {
     "data": {
      "text/plain": [
       "<BarContainer object of 3 artists>"
      ]
     },
     "execution_count": 82,
     "metadata": {},
     "output_type": "execute_result"
    },
    {
     "data": {
      "image/png": "[encoded data removed]",
      "text/plain": [
       "<Figure size 432x288 with 1 Axes>"
      ]
     },
     "metadata": {
      "needs_background": "light"
     },
     "output_type": "display_data"
    }
   ],
   "source": [
    "#identifying in which subject students have mostly failed.\n",
    "fail_math = df[df['math score'] < 40]\n",
    "fail_reading = df[df['reading score'] < 40]\n",
    "fail_writing = df[df['writing score'] < 40]\n",
    "\n",
    "plt.bar(['Math','Reading','Writing'],[len(fail_math),len(fail_reading),len(fail_writing)])"
   ]
  },
  {
   "cell_type": "markdown",
   "metadata": {},
   "source": [
    "From the above bar chart, students are mostly failed in maths."
   ]
  },
  {
   "cell_type": "code",
   "execution_count": 83,
   "metadata": {},
   "outputs": [
    {
     "data": {
      "text/plain": [
       "high school           14\n",
       "some high school      13\n",
       "some college           6\n",
       "bachelor's degree      4\n",
       "associate's degree     3\n",
       "Name: parental level of education, dtype: int64"
      ]
     },
     "execution_count": 83,
     "metadata": {},
     "output_type": "execute_result"
    }
   ],
   "source": [
    "fail_math['parental level of education'].value_counts()"
   ]
  },
  {
   "cell_type": "markdown",
   "metadata": {},
   "source": [
    "Students having parent with high school degree are mostly failed in maths."
   ]
  },
  {
   "cell_type": "markdown",
   "metadata": {},
   "source": [
    "# Hypothesis 18: Students failed in maths haven't taken test preparation course."
   ]
  },
  {
   "cell_type": "code",
   "execution_count": 84,
   "metadata": {},
   "outputs": [
    {
     "data": {
      "text/plain": [
       "<matplotlib.axes._subplots.AxesSubplot at 0x108875f0>"
      ]
     },
     "execution_count": 84,
     "metadata": {},
     "output_type": "execute_result"
    },
    {
     "data": {
      "image/png": "[encoded data removed]",
      "text/plain": [
       "<Figure size 432x288 with 1 Axes>"
      ]
     },
     "metadata": {
      "needs_background": "light"
     },
     "output_type": "display_data"
    }
   ],
   "source": [
    "failed_math_score = fail_math['test preparation course'].value_counts()\n",
    "failed_math_score.plot.bar()"
   ]
  },
  {
   "cell_type": "markdown",
   "metadata": {},
   "source": [
    "Therefore, students who have failed in maths haven't taken test preparation course."
   ]
  },
  {
   "cell_type": "markdown",
   "metadata": {},
   "source": [
    "# Identifying no of students failed in any two subjects."
   ]
  },
  {
   "cell_type": "code",
   "execution_count": 85,
   "metadata": {},
   "outputs": [
    {
     "name": "stdout",
     "output_type": "stream",
     "text": [
      "Number of students failed in reading and writing: 25\n"
     ]
    },
    {
     "data": {
      "text/plain": [
       "male      14\n",
       "female    11\n",
       "Name: gender, dtype: int64"
      ]
     },
     "execution_count": 85,
     "metadata": {},
     "output_type": "execute_result"
    }
   ],
   "source": [
    "#identifying no of students failed in any two subjects.\n",
    "fail_reading_writing = df[((df['reading score'] < 40) & (df['writing score'] < 40) ) ]\n",
    "print(f\"Number of students failed in reading and writing: {len(fail_reading_writing)}\")\n",
    "fail_reading_writing['gender'].value_counts()"
   ]
  },
  {
   "cell_type": "code",
   "execution_count": 86,
   "metadata": {},
   "outputs": [
    {
     "data": {
      "text/plain": [
       "<matplotlib.axes._subplots.AxesSubplot at 0x108c30b0>"
      ]
     },
     "execution_count": 86,
     "metadata": {},
     "output_type": "execute_result"
    },
    {
     "data": {
      "image/png": "[encoded data removed]",
      "text/plain": [
       "<Figure size 432x288 with 1 Axes>"
      ]
     },
     "metadata": {
      "needs_background": "light"
     },
     "output_type": "display_data"
    }
   ],
   "source": [
    "fail_writing_reading = df[(df['writing score'] < 40) & (df['reading score'] < 40)]\n",
    "fail_writing_reading['parental level of education'].value_counts().plot.bar()"
   ]
  },
  {
   "cell_type": "code",
   "execution_count": 87,
   "metadata": {},
   "outputs": [
    {
     "name": "stdout",
     "output_type": "stream",
     "text": [
      "Number of students failed in reading and math: 18\n"
     ]
    },
    {
     "data": {
      "text/plain": [
       "female    11\n",
       "male       7\n",
       "Name: gender, dtype: int64"
      ]
     },
     "execution_count": 87,
     "metadata": {},
     "output_type": "execute_result"
    }
   ],
   "source": [
    "fail_reading_math = df[((df['reading score'] < 40) & (df['math score'] < 40) ) ]\n",
    "print(f\"Number of students failed in reading and math: {len(fail_reading_math)}\")\n",
    "fail_reading_math['gender'].value_counts()"
   ]
  },
  {
   "cell_type": "code",
   "execution_count": 88,
   "metadata": {},
   "outputs": [
    {
     "name": "stdout",
     "output_type": "stream",
     "text": [
      "Number of students failed in writing and math: 22\n"
     ]
    },
    {
     "data": {
      "text/plain": [
       "female    14\n",
       "male       8\n",
       "Name: gender, dtype: int64"
      ]
     },
     "execution_count": 88,
     "metadata": {},
     "output_type": "execute_result"
    }
   ],
   "source": [
    "fail_writing_math = df[((df['writing score'] < 40) & (df['math score'] < 40) ) ]\n",
    "print(f\"Number of students failed in writing and math: {len(fail_writing_math)}\")\n",
    "fail_writing_math['gender'].value_counts()"
   ]
  },
  {
   "cell_type": "markdown",
   "metadata": {},
   "source": [
    "# Identifying range of scores that most of students have secured in different subjects."
   ]
  },
  {
   "cell_type": "code",
   "execution_count": 89,
   "metadata": {},
   "outputs": [
    {
     "name": "stderr",
     "output_type": "stream",
     "text": [
      "c:\\users\\shrad\\appdata\\local\\programs\\python\\python36-32\\lib\\site-packages\\matplotlib\\axes\\_axes.py:6521: MatplotlibDeprecationWarning: \n",
      "The 'normed' kwarg was deprecated in Matplotlib 2.1 and will be removed in 3.1. Use 'density' instead.\n",
      "  alternative=\"'density'\", removal=\"3.1\")\n"
     ]
    },
    {
     "data": {
      "image/png": "[encoded data removed]",
      "text/plain": [
       "<Figure size 432x288 with 1 Axes>"
      ]
     },
     "metadata": {
      "needs_background": "light"
     },
     "output_type": "display_data"
    }
   ],
   "source": [
    "\n",
    "import scipy.stats as stats\n",
    "import pylab as pl\n",
    "\n",
    "h = df['math score']\n",
    "\n",
    "fit = stats.norm.pdf(h, np.mean(h), np.std(h))  #this is a fitting indeed\n",
    "\n",
    "pl.plot(h,fit,'-o')\n",
    "\n",
    "pl.hist(h,normed=True)      #use this to draw histogram of your data\n",
    "\n",
    "pl.show() "
   ]
  },
  {
   "cell_type": "markdown",
   "metadata": {},
   "source": [
    "Therefore, most of the passed students have scored between 60-70 in maths."
   ]
  },
  {
   "cell_type": "code",
   "execution_count": 90,
   "metadata": {},
   "outputs": [
    {
     "data": {
      "text/plain": [
       "[<matplotlib.lines.Line2D at 0x11bee450>]"
      ]
     },
     "execution_count": 90,
     "metadata": {},
     "output_type": "execute_result"
    },
    {
     "data": {
      "image/png": "[encoded data removed]",
      "text/plain": [
       "<Figure size 432x288 with 1 Axes>"
      ]
     },
     "metadata": {
      "needs_background": "light"
     },
     "output_type": "display_data"
    }
   ],
   "source": [
    "import scipy.stats as stats\n",
    "\n",
    "h = df['reading score']\n",
    "hmean = np.mean(h)\n",
    "hstd = np.std(h)\n",
    "pdf = stats.norm.pdf(h, hmean, hstd)\n",
    "plt.plot(h, pdf)"
   ]
  },
  {
   "cell_type": "markdown",
   "metadata": {},
   "source": [
    "Therefore, most of the passed students have scored between 65-80 in reading."
   ]
  },
  {
   "cell_type": "code",
   "execution_count": 91,
   "metadata": {},
   "outputs": [
    {
     "data": {
      "text/plain": [
       "[<matplotlib.lines.Line2D at 0x12bf1f90>]"
      ]
     },
     "execution_count": 91,
     "metadata": {},
     "output_type": "execute_result"
    },
    {
     "data": {
      "image/png": "[encoded data removed]",
      "text/plain": [
       "<Figure size 432x288 with 1 Axes>"
      ]
     },
     "metadata": {
      "needs_background": "light"
     },
     "output_type": "display_data"
    }
   ],
   "source": [
    "import scipy.stats as stats\n",
    "h = df['writing score']\n",
    "hmean = np.mean(h)\n",
    "hstd = np.std(h)\n",
    "pdf = stats.norm.pdf(h, hmean, hstd)\n",
    "plt.plot(h, pdf)"
   ]
  },
  {
   "cell_type": "markdown",
   "metadata": {},
   "source": [
    "Therefore, most of the passed students have scored between 65-75 in writing."
   ]
  },
  {
   "cell_type": "code",
   "execution_count": 92,
   "metadata": {},
   "outputs": [
    {
     "data": {
      "text/html": [
       "<div>\n",
       "<style scoped>\n",
       "    .dataframe tbody tr th:only-of-type {\n",
       "        vertical-align: middle;\n",
       "    }\n",
       "\n",
       "    .dataframe tbody tr th {\n",
       "        vertical-align: top;\n",
       "    }\n",
       "\n",
       "    .dataframe thead th {\n",
       "        text-align: right;\n",
       "    }\n",
       "</style>\n",
       "<table border=\"1\" class=\"dataframe\">\n",
       "  <thead>\n",
       "    <tr style=\"text-align: right;\">\n",
       "      <th></th>\n",
       "      <th>math score</th>\n",
       "      <th>writing score</th>\n",
       "      <th>reading score</th>\n",
       "    </tr>\n",
       "  </thead>\n",
       "  <tbody>\n",
       "    <tr>\n",
       "      <th>math score</th>\n",
       "      <td>1.000000</td>\n",
       "      <td>0.802642</td>\n",
       "      <td>0.817580</td>\n",
       "    </tr>\n",
       "    <tr>\n",
       "      <th>writing score</th>\n",
       "      <td>0.802642</td>\n",
       "      <td>1.000000</td>\n",
       "      <td>0.954598</td>\n",
       "    </tr>\n",
       "    <tr>\n",
       "      <th>reading score</th>\n",
       "      <td>0.817580</td>\n",
       "      <td>0.954598</td>\n",
       "      <td>1.000000</td>\n",
       "    </tr>\n",
       "  </tbody>\n",
       "</table>\n",
       "</div>"
      ],
      "text/plain": [
       "               math score  writing score  reading score\n",
       "math score       1.000000       0.802642       0.817580\n",
       "writing score    0.802642       1.000000       0.954598\n",
       "reading score    0.817580       0.954598       1.000000"
      ]
     },
     "execution_count": 92,
     "metadata": {},
     "output_type": "execute_result"
    }
   ],
   "source": [
    "df[['math score','writing score','reading score']].corr()"
   ]
  },
  {
   "cell_type": "code",
   "execution_count": null,
   "metadata": {},
   "outputs": [],
   "source": []
  }
 ],
 "metadata": {
  "kernelspec": {
   "display_name": "Python 3",
   "language": "python",
   "name": "python3"
  },
  "language_info": {
   "codemirror_mode": {
    "name": "ipython",
    "version": 3
   },
   "file_extension": ".py",
   "mimetype": "text/x-python",
   "name": "python",
   "nbconvert_exporter": "python",
   "pygments_lexer": "ipython3",
   "version": "3.6.7"
  }
 },
 "nbformat": 4,
 "nbformat_minor": 1
}
